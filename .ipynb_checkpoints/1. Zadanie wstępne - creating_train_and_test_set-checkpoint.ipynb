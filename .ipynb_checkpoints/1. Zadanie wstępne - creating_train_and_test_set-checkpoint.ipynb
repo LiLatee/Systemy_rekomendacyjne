{
 "cells": [
  {
   "cell_type": "code",
   "execution_count": null,
   "metadata": {},
   "outputs": [],
   "source": [
    "import pandas as pd\n",
    "import numpy as np\n",
    "import collections\n",
    "import time\n",
    "from sklearn.model_selection import train_test_split"
   ]
  },
  {
   "cell_type": "code",
   "execution_count": null,
   "metadata": {},
   "outputs": [],
   "source": [
    "start = time.time()\n",
    "train_set_org = pd.read_csv('D:\\\\Dokumenty\\\\Systemy_rekomendacyjne\\\\data\\\\trivagoRecSysChallengeData2019_v2\\\\train.csv',\n",
    "                       sep=',')"
   ]
  },
  {
   "cell_type": "code",
   "execution_count": null,
   "metadata": {},
   "outputs": [],
   "source": [
    "train_set = train_set_org\n",
    "train_set = train_set.set_index(['session_id','timestamp'])\n",
    "train_set = train_set.sort_values(['timestamp'])\n",
    "train_set[:3]"
   ]
  },
  {
   "cell_type": "code",
   "execution_count": null,
   "metadata": {},
   "outputs": [],
   "source": [
    "x_train, x_test = train_test_split(train_set, test_size=0.2, shuffle=False)"
   ]
  },
  {
   "cell_type": "code",
   "execution_count": null,
   "metadata": {},
   "outputs": [],
   "source": [
    "x_train = x_train.reset_index()\n",
    "x_train_session_ids = x_train['session_id'].values"
   ]
  },
  {
   "cell_type": "code",
   "execution_count": null,
   "metadata": {},
   "outputs": [],
   "source": [
    "x_test = x_test.reset_index()\n",
    "x_test_session_ids = x_test['session_id'].values"
   ]
  },
  {
   "cell_type": "code",
   "execution_count": null,
   "metadata": {},
   "outputs": [],
   "source": [
    "print(\"Liczba unikalnych identyfikatorów sesji w zbiorze testowym:\", len(x_train_session_ids))"
   ]
  },
  {
   "cell_type": "code",
   "execution_count": null,
   "metadata": {},
   "outputs": [],
   "source": [
    "print(\"Liczba unikalnych identyfikatorów sesji w zbiorze treningowym:\", len(x_test_session_ids))"
   ]
  },
  {
   "cell_type": "code",
   "execution_count": null,
   "metadata": {},
   "outputs": [],
   "source": [
    "# collections.Counter(x_train_session_ids)"
   ]
  },
  {
   "cell_type": "code",
   "execution_count": null,
   "metadata": {},
   "outputs": [],
   "source": [
    "intersected_ids = list(set(x_train_session_ids) & set(x_test_session_ids))\n",
    "print(\"Liczba identyfikatorów przecinających się:\", len(intersected_ids))"
   ]
  },
  {
   "cell_type": "code",
   "execution_count": null,
   "metadata": {},
   "outputs": [],
   "source": [
    "# len(set(x_test[x_test['session_id'].isin(x_train_session_ids)]['session_id'].values))"
   ]
  },
  {
   "cell_type": "code",
   "execution_count": null,
   "metadata": {},
   "outputs": [],
   "source": [
    "print(\"Zbiór treningowy przed dodaniem wierszy:\", x_train.shape)\n",
    "print(\"Zbiór testowy przed usunięciem wierszy:\", x_test.shape)"
   ]
  },
  {
   "cell_type": "code",
   "execution_count": null,
   "metadata": {},
   "outputs": [],
   "source": [
    "print(\"Liczba wierszy do przeniesienia do zbioru treningowego z testowego:\", len(x_test[x_test['session_id'].isin(x_train_session_ids)]) )"
   ]
  },
  {
   "cell_type": "code",
   "execution_count": null,
   "metadata": {},
   "outputs": [],
   "source": [
    "x_train = x_train.append(x_test[x_test['session_id'].isin(x_train_session_ids)])\n",
    "x_test = x_test.loc[~x_test['session_id'].isin(intersected_ids)]"
   ]
  },
  {
   "cell_type": "code",
   "execution_count": null,
   "metadata": {},
   "outputs": [],
   "source": [
    "print(\"Zbiór treningowy po dodaniu wierszy:\", x_train.shape)\n",
    "print(\"Zbiór testowy po usunięciu wierszy:\", x_test.shape)"
   ]
  },
  {
   "cell_type": "code",
   "execution_count": null,
   "metadata": {},
   "outputs": [],
   "source": [
    "# zmiana w zbiorze testowym reference na nan"
   ]
  },
  {
   "cell_type": "code",
   "execution_count": null,
   "metadata": {},
   "outputs": [],
   "source": [
    "x_test_without_nan = x_test"
   ]
  },
  {
   "cell_type": "code",
   "execution_count": null,
   "metadata": {},
   "outputs": [],
   "source": [
    "x_test['counter'] = range(len(x_test))\n",
    "last_clickout_item_rows = x_test[x_test['action_type']=='clickout item'].groupby('user_id').last()\n",
    "x_test = x_test.set_index(['user_id','timestamp'])\n",
    "last_clickout_item_rows.loc[:,'reference'] = np.nan\n",
    "last_clickout_item_rows[:10]"
   ]
  },
  {
   "cell_type": "code",
   "execution_count": null,
   "metadata": {},
   "outputs": [],
   "source": [
    "x_test = x_test.reset_index()\n",
    "last_clickout_item_rows = last_clickout_item_rows.reset_index()"
   ]
  },
  {
   "cell_type": "code",
   "execution_count": null,
   "metadata": {},
   "outputs": [],
   "source": [
    "last_clickout_item_rows = last_clickout_item_rows.set_index(['user_id', 'timestamp'])\n",
    "x_test = x_test.set_index(['user_id', 'timestamp'])"
   ]
  },
  {
   "cell_type": "code",
   "execution_count": null,
   "metadata": {},
   "outputs": [],
   "source": [
    "counter_list = last_clickout_item_rows['counter'].values\n",
    "y_test = x_test.loc[x_test['counter'].isin(counter_list)]\n",
    "x_test.loc[x_test['counter'].isin(counter_list)] = last_clickout_item_rows\n",
    "y_test[:10]"
   ]
  },
  {
   "cell_type": "code",
   "execution_count": null,
   "metadata": {},
   "outputs": [],
   "source": [
    "x_test = x_test.drop('counter', axis=1)\n",
    "x_test.sort_values(['user_id'])[:10]"
   ]
  },
  {
   "cell_type": "code",
   "execution_count": null,
   "metadata": {},
   "outputs": [],
   "source": [
    "end = time.time()\n",
    "end-start"
   ]
  },
  {
   "cell_type": "code",
   "execution_count": null,
   "metadata": {},
   "outputs": [],
   "source": [
    "x_train = x_train.reset_index()\n",
    "x_train.to_csv('D:\\\\Dokumenty\\\\Systemy_rekomendacyjne\\\\additional_resources\\\\2019-master\\\\data\\\\train.csv', sep=',', index=False)"
   ]
  },
  {
   "cell_type": "code",
   "execution_count": null,
   "metadata": {},
   "outputs": [],
   "source": [
    "x_test = x_test.reset_index()\n",
    "x_test.to_csv('D:\\\\Dokumenty\\\\Systemy_rekomendacyjne\\\\additional_resources\\\\2019-master\\\\data\\\\test.csv', sep=',', index=False)"
   ]
  },
  {
   "cell_type": "code",
   "execution_count": null,
   "metadata": {},
   "outputs": [],
   "source": [
    "x_test_without_nan = x_test_without_nan.drop('counter', axis=1)\n",
    "x_test_without_nan = x_test_without_nan.reset_index()\n",
    "x_test_without_nan.to_csv('D:\\\\Dokumenty\\\\Systemy_rekomendacyjne\\\\additional_resources\\\\2019-master\\\\ground_truth.csv', sep=',', index=False)"
   ]
  },
  {
   "cell_type": "code",
   "execution_count": null,
   "metadata": {},
   "outputs": [],
   "source": [
    "x_train[:100]"
   ]
  },
  {
   "cell_type": "code",
   "execution_count": null,
   "metadata": {},
   "outputs": [],
   "source": [
    "x_test[x_test[\"reference\"].isnull() & (x_test[\"action_type\"] == \"clickout item\")]"
   ]
  },
  {
   "cell_type": "code",
   "execution_count": null,
   "metadata": {},
   "outputs": [],
   "source": []
  },
  {
   "cell_type": "code",
   "execution_count": null,
   "metadata": {},
   "outputs": [],
   "source": []
  },
  {
   "cell_type": "code",
   "execution_count": null,
   "metadata": {},
   "outputs": [],
   "source": [
    "x_train[['session_id','user_id']].groupby(\"user_id\").nunique()"
   ]
  },
  {
   "cell_type": "code",
   "execution_count": null,
   "metadata": {},
   "outputs": [],
   "source": [
    "x_train[x_train['user_id'] == '0008BO33KUQ0' ]"
   ]
  },
  {
   "cell_type": "code",
   "execution_count": null,
   "metadata": {},
   "outputs": [],
   "source": [
    "mask = x_train[\"action_type\"] == \"clickout item\"\n",
    "x_train2 = x_train[mask]\n",
    "df_item_clicks = (\n",
    "    x_train2\n",
    "    .groupby(\"reference\")\n",
    "    .size()\n",
    "    .reset_index(name=\"n_clicks\")\n",
    "    .transform(lambda x: x.astype(int))\n",
    ")\n",
    "x_train2.groupby(['session_id', 'user_id']).size()"
   ]
  },
  {
   "cell_type": "code",
   "execution_count": null,
   "metadata": {},
   "outputs": [],
   "source": []
  }
 ],
 "metadata": {
  "kernelspec": {
   "display_name": "Python 3",
   "language": "python",
   "name": "python3"
  },
  "language_info": {
   "codemirror_mode": {
    "name": "ipython",
    "version": 3
   },
   "file_extension": ".py",
   "mimetype": "text/x-python",
   "name": "python",
   "nbconvert_exporter": "python",
   "pygments_lexer": "ipython3",
   "version": "3.7.3"
  }
 },
 "nbformat": 4,
 "nbformat_minor": 2
}
