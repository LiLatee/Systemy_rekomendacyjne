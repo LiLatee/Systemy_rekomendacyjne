{
 "cells": [
  {
   "cell_type": "code",
   "execution_count": 2,
   "metadata": {},
   "outputs": [],
   "source": [
    "import numpy as np\n",
    "import pandas as pd\n",
    "import json\n",
    "import math"
   ]
  },
  {
   "cell_type": "code",
   "execution_count": 5,
   "metadata": {},
   "outputs": [
    {
     "ename": "FileNotFoundError",
     "evalue": "[Errno 2] File b'D:\\\\Dokumenty\\\\Systemy_rekomendacyjne\\\\additional_resources\\\\2019-master\\\\data\\\\item_metadata_separated_properties2.csv' does not exist: b'D:\\\\Dokumenty\\\\Systemy_rekomendacyjne\\\\additional_resources\\\\2019-master\\\\data\\\\item_metadata_separated_properties2.csv'",
     "output_type": "error",
     "traceback": [
      "\u001b[1;31m---------------------------------------------------------------------------\u001b[0m",
      "\u001b[1;31mFileNotFoundError\u001b[0m                         Traceback (most recent call last)",
      "\u001b[1;32m<ipython-input-5-3d956209eb98>\u001b[0m in \u001b[0;36m<module>\u001b[1;34m\u001b[0m\n\u001b[0;32m      1\u001b[0m train_set_org = pd.read_csv('D:\\\\Dokumenty\\\\Systemy_rekomendacyjne\\\\additional_resources\\\\2019-master\\data\\\\item_metadata_separated_properties2.csv',\n\u001b[1;32m----> 2\u001b[1;33m                        sep=',')\n\u001b[0m\u001b[0;32m      3\u001b[0m \u001b[0mtrain_set_org\u001b[0m\u001b[1;33m[\u001b[0m\u001b[1;33m:\u001b[0m\u001b[1;36m3\u001b[0m\u001b[1;33m]\u001b[0m\u001b[1;33m\u001b[0m\u001b[1;33m\u001b[0m\u001b[0m\n",
      "\u001b[1;32mD:\\Instalowane\\Programy\\Anaconda3\\lib\\site-packages\\pandas\\io\\parsers.py\u001b[0m in \u001b[0;36mparser_f\u001b[1;34m(filepath_or_buffer, sep, delimiter, header, names, index_col, usecols, squeeze, prefix, mangle_dupe_cols, dtype, engine, converters, true_values, false_values, skipinitialspace, skiprows, skipfooter, nrows, na_values, keep_default_na, na_filter, verbose, skip_blank_lines, parse_dates, infer_datetime_format, keep_date_col, date_parser, dayfirst, iterator, chunksize, compression, thousands, decimal, lineterminator, quotechar, quoting, doublequote, escapechar, comment, encoding, dialect, tupleize_cols, error_bad_lines, warn_bad_lines, delim_whitespace, low_memory, memory_map, float_precision)\u001b[0m\n\u001b[0;32m    700\u001b[0m                     skip_blank_lines=skip_blank_lines)\n\u001b[0;32m    701\u001b[0m \u001b[1;33m\u001b[0m\u001b[0m\n\u001b[1;32m--> 702\u001b[1;33m         \u001b[1;32mreturn\u001b[0m \u001b[0m_read\u001b[0m\u001b[1;33m(\u001b[0m\u001b[0mfilepath_or_buffer\u001b[0m\u001b[1;33m,\u001b[0m \u001b[0mkwds\u001b[0m\u001b[1;33m)\u001b[0m\u001b[1;33m\u001b[0m\u001b[1;33m\u001b[0m\u001b[0m\n\u001b[0m\u001b[0;32m    703\u001b[0m \u001b[1;33m\u001b[0m\u001b[0m\n\u001b[0;32m    704\u001b[0m     \u001b[0mparser_f\u001b[0m\u001b[1;33m.\u001b[0m\u001b[0m__name__\u001b[0m \u001b[1;33m=\u001b[0m \u001b[0mname\u001b[0m\u001b[1;33m\u001b[0m\u001b[1;33m\u001b[0m\u001b[0m\n",
      "\u001b[1;32mD:\\Instalowane\\Programy\\Anaconda3\\lib\\site-packages\\pandas\\io\\parsers.py\u001b[0m in \u001b[0;36m_read\u001b[1;34m(filepath_or_buffer, kwds)\u001b[0m\n\u001b[0;32m    427\u001b[0m \u001b[1;33m\u001b[0m\u001b[0m\n\u001b[0;32m    428\u001b[0m     \u001b[1;31m# Create the parser.\u001b[0m\u001b[1;33m\u001b[0m\u001b[1;33m\u001b[0m\u001b[1;33m\u001b[0m\u001b[0m\n\u001b[1;32m--> 429\u001b[1;33m     \u001b[0mparser\u001b[0m \u001b[1;33m=\u001b[0m \u001b[0mTextFileReader\u001b[0m\u001b[1;33m(\u001b[0m\u001b[0mfilepath_or_buffer\u001b[0m\u001b[1;33m,\u001b[0m \u001b[1;33m**\u001b[0m\u001b[0mkwds\u001b[0m\u001b[1;33m)\u001b[0m\u001b[1;33m\u001b[0m\u001b[1;33m\u001b[0m\u001b[0m\n\u001b[0m\u001b[0;32m    430\u001b[0m \u001b[1;33m\u001b[0m\u001b[0m\n\u001b[0;32m    431\u001b[0m     \u001b[1;32mif\u001b[0m \u001b[0mchunksize\u001b[0m \u001b[1;32mor\u001b[0m \u001b[0miterator\u001b[0m\u001b[1;33m:\u001b[0m\u001b[1;33m\u001b[0m\u001b[1;33m\u001b[0m\u001b[0m\n",
      "\u001b[1;32mD:\\Instalowane\\Programy\\Anaconda3\\lib\\site-packages\\pandas\\io\\parsers.py\u001b[0m in \u001b[0;36m__init__\u001b[1;34m(self, f, engine, **kwds)\u001b[0m\n\u001b[0;32m    893\u001b[0m             \u001b[0mself\u001b[0m\u001b[1;33m.\u001b[0m\u001b[0moptions\u001b[0m\u001b[1;33m[\u001b[0m\u001b[1;34m'has_index_names'\u001b[0m\u001b[1;33m]\u001b[0m \u001b[1;33m=\u001b[0m \u001b[0mkwds\u001b[0m\u001b[1;33m[\u001b[0m\u001b[1;34m'has_index_names'\u001b[0m\u001b[1;33m]\u001b[0m\u001b[1;33m\u001b[0m\u001b[1;33m\u001b[0m\u001b[0m\n\u001b[0;32m    894\u001b[0m \u001b[1;33m\u001b[0m\u001b[0m\n\u001b[1;32m--> 895\u001b[1;33m         \u001b[0mself\u001b[0m\u001b[1;33m.\u001b[0m\u001b[0m_make_engine\u001b[0m\u001b[1;33m(\u001b[0m\u001b[0mself\u001b[0m\u001b[1;33m.\u001b[0m\u001b[0mengine\u001b[0m\u001b[1;33m)\u001b[0m\u001b[1;33m\u001b[0m\u001b[1;33m\u001b[0m\u001b[0m\n\u001b[0m\u001b[0;32m    896\u001b[0m \u001b[1;33m\u001b[0m\u001b[0m\n\u001b[0;32m    897\u001b[0m     \u001b[1;32mdef\u001b[0m \u001b[0mclose\u001b[0m\u001b[1;33m(\u001b[0m\u001b[0mself\u001b[0m\u001b[1;33m)\u001b[0m\u001b[1;33m:\u001b[0m\u001b[1;33m\u001b[0m\u001b[1;33m\u001b[0m\u001b[0m\n",
      "\u001b[1;32mD:\\Instalowane\\Programy\\Anaconda3\\lib\\site-packages\\pandas\\io\\parsers.py\u001b[0m in \u001b[0;36m_make_engine\u001b[1;34m(self, engine)\u001b[0m\n\u001b[0;32m   1120\u001b[0m     \u001b[1;32mdef\u001b[0m \u001b[0m_make_engine\u001b[0m\u001b[1;33m(\u001b[0m\u001b[0mself\u001b[0m\u001b[1;33m,\u001b[0m \u001b[0mengine\u001b[0m\u001b[1;33m=\u001b[0m\u001b[1;34m'c'\u001b[0m\u001b[1;33m)\u001b[0m\u001b[1;33m:\u001b[0m\u001b[1;33m\u001b[0m\u001b[1;33m\u001b[0m\u001b[0m\n\u001b[0;32m   1121\u001b[0m         \u001b[1;32mif\u001b[0m \u001b[0mengine\u001b[0m \u001b[1;33m==\u001b[0m \u001b[1;34m'c'\u001b[0m\u001b[1;33m:\u001b[0m\u001b[1;33m\u001b[0m\u001b[1;33m\u001b[0m\u001b[0m\n\u001b[1;32m-> 1122\u001b[1;33m             \u001b[0mself\u001b[0m\u001b[1;33m.\u001b[0m\u001b[0m_engine\u001b[0m \u001b[1;33m=\u001b[0m \u001b[0mCParserWrapper\u001b[0m\u001b[1;33m(\u001b[0m\u001b[0mself\u001b[0m\u001b[1;33m.\u001b[0m\u001b[0mf\u001b[0m\u001b[1;33m,\u001b[0m \u001b[1;33m**\u001b[0m\u001b[0mself\u001b[0m\u001b[1;33m.\u001b[0m\u001b[0moptions\u001b[0m\u001b[1;33m)\u001b[0m\u001b[1;33m\u001b[0m\u001b[1;33m\u001b[0m\u001b[0m\n\u001b[0m\u001b[0;32m   1123\u001b[0m         \u001b[1;32melse\u001b[0m\u001b[1;33m:\u001b[0m\u001b[1;33m\u001b[0m\u001b[1;33m\u001b[0m\u001b[0m\n\u001b[0;32m   1124\u001b[0m             \u001b[1;32mif\u001b[0m \u001b[0mengine\u001b[0m \u001b[1;33m==\u001b[0m \u001b[1;34m'python'\u001b[0m\u001b[1;33m:\u001b[0m\u001b[1;33m\u001b[0m\u001b[1;33m\u001b[0m\u001b[0m\n",
      "\u001b[1;32mD:\\Instalowane\\Programy\\Anaconda3\\lib\\site-packages\\pandas\\io\\parsers.py\u001b[0m in \u001b[0;36m__init__\u001b[1;34m(self, src, **kwds)\u001b[0m\n\u001b[0;32m   1851\u001b[0m         \u001b[0mkwds\u001b[0m\u001b[1;33m[\u001b[0m\u001b[1;34m'usecols'\u001b[0m\u001b[1;33m]\u001b[0m \u001b[1;33m=\u001b[0m \u001b[0mself\u001b[0m\u001b[1;33m.\u001b[0m\u001b[0musecols\u001b[0m\u001b[1;33m\u001b[0m\u001b[1;33m\u001b[0m\u001b[0m\n\u001b[0;32m   1852\u001b[0m \u001b[1;33m\u001b[0m\u001b[0m\n\u001b[1;32m-> 1853\u001b[1;33m         \u001b[0mself\u001b[0m\u001b[1;33m.\u001b[0m\u001b[0m_reader\u001b[0m \u001b[1;33m=\u001b[0m \u001b[0mparsers\u001b[0m\u001b[1;33m.\u001b[0m\u001b[0mTextReader\u001b[0m\u001b[1;33m(\u001b[0m\u001b[0msrc\u001b[0m\u001b[1;33m,\u001b[0m \u001b[1;33m**\u001b[0m\u001b[0mkwds\u001b[0m\u001b[1;33m)\u001b[0m\u001b[1;33m\u001b[0m\u001b[1;33m\u001b[0m\u001b[0m\n\u001b[0m\u001b[0;32m   1854\u001b[0m         \u001b[0mself\u001b[0m\u001b[1;33m.\u001b[0m\u001b[0munnamed_cols\u001b[0m \u001b[1;33m=\u001b[0m \u001b[0mself\u001b[0m\u001b[1;33m.\u001b[0m\u001b[0m_reader\u001b[0m\u001b[1;33m.\u001b[0m\u001b[0munnamed_cols\u001b[0m\u001b[1;33m\u001b[0m\u001b[1;33m\u001b[0m\u001b[0m\n\u001b[0;32m   1855\u001b[0m \u001b[1;33m\u001b[0m\u001b[0m\n",
      "\u001b[1;32mpandas/_libs/parsers.pyx\u001b[0m in \u001b[0;36mpandas._libs.parsers.TextReader.__cinit__\u001b[1;34m()\u001b[0m\n",
      "\u001b[1;32mpandas/_libs/parsers.pyx\u001b[0m in \u001b[0;36mpandas._libs.parsers.TextReader._setup_parser_source\u001b[1;34m()\u001b[0m\n",
      "\u001b[1;31mFileNotFoundError\u001b[0m: [Errno 2] File b'D:\\\\Dokumenty\\\\Systemy_rekomendacyjne\\\\additional_resources\\\\2019-master\\\\data\\\\item_metadata_separated_properties2.csv' does not exist: b'D:\\\\Dokumenty\\\\Systemy_rekomendacyjne\\\\additional_resources\\\\2019-master\\\\data\\\\item_metadata_separated_properties2.csv'"
     ]
    }
   ],
   "source": [
    "train_set_org = pd.read_csv('D:\\\\Dokumenty\\\\Systemy_rekomendacyjne\\data\\\\item_metadata_separated_properties2.csv',\n",
    "                       sep=',')\n",
    "train_set_org[:3]"
   ]
  },
  {
   "cell_type": "code",
   "execution_count": null,
   "metadata": {},
   "outputs": [],
   "source": [
    "train_set_org = pd.read_csv('D:\\\\Dokumenty\\\\Systemy_rekomendacyjne\\\\additional_resources\\\\2019-master\\data\\\\train.csv',\n",
    "                       sep=',',\n",
    "#                       nrows=10000,\n",
    "                      index_col=0)\n",
    "train_set_org[:3]"
   ]
  },
  {
   "cell_type": "code",
   "execution_count": null,
   "metadata": {},
   "outputs": [],
   "source": [
    "def string_to_array(s):\n",
    "    \"\"\"Convert pipe separated string to array.\"\"\"\n",
    "\n",
    "    if isinstance(s, str):\n",
    "        out = s.split(\"|\")\n",
    "    elif math.isnan(s):\n",
    "        out = []\n",
    "    else:\n",
    "        raise ValueError(\"Value must be either string of nan\")\n",
    "    return out\n",
    "\n",
    "def explode(df_in, col_expl):\n",
    "    \"\"\"Explode column col_expl of array type into multiple rows.\"\"\"\n",
    "\n",
    "    df = df_in.copy()\n",
    "    df.loc[:, col_expl] = df[col_expl].apply(string_to_array)  # zamienia 1|2|3 na [1,2,3]\n",
    "\n",
    "    # df = df.sort_values(by=['session_id']) #ZMIANA\n",
    "    # df['number_of_impressions'] = df['impressions'].apply(len) #ZMIANA\n",
    "\n",
    "    df_out = pd.DataFrame(\n",
    "        {col: np.repeat(df[col].values,\n",
    "                        df[col_expl].str.len())\n",
    "         for col in df.columns.drop(col_expl)}\n",
    "    )\n",
    "\n",
    "    df_out.loc[:, col_expl] = np.concatenate(df[col_expl].values)\n",
    "    df_out.loc[:, col_expl] = df_out[col_expl].apply(int)\n",
    "\n",
    "    return df_out"
   ]
  },
  {
   "cell_type": "code",
   "execution_count": null,
   "metadata": {},
   "outputs": [],
   "source": [
    "def explode_impressions_and_prices(df_in):\n",
    "    \"\"\"Explode column col_expl of array type into multiple rows.\"\"\"\n",
    "\n",
    "    df = df_in.copy()\n",
    "    df.loc[:, 'impressions'] = df['impressions'].apply(string_to_array)  # zamienia 1|2|3 na [1,2,3]\n",
    "    df.loc[:, 'prices'] = df['prices'].apply(string_to_array)  # zamienia 1|2|3 na [1,2,3]\n",
    "\n",
    "    df = df.sort_values(by=['session_id'])\n",
    "    df['number_of_impressions'] = df['impressions'].apply(len)\n",
    "    \n",
    "    df_out = pd.DataFrame(\n",
    "        {col: np.repeat(df[col].values,\n",
    "                        df['impressions'].str.len())\n",
    "         for col in df.columns.drop('impressions')}\n",
    "    )\n",
    "    \n",
    "\n",
    "    df_out.loc[:, 'impressions'] = np.concatenate(df['impressions'].values)\n",
    "    df_out.loc[:, 'impressions'] = df_out['impressions'].apply(int)\n",
    "    \n",
    "    df_out.loc[:, 'prices'] = np.concatenate(df['prices'].values)\n",
    "    df_out.loc[:, 'prices'] = df_out['prices'].apply(int)\n",
    "\n",
    "    return df_out"
   ]
  },
  {
   "cell_type": "code",
   "execution_count": null,
   "metadata": {},
   "outputs": [],
   "source": [
    "out = explode_impressions_and_prices(train_set_org)\n",
    "# out[out['session_id'] == '90ccf1b651b92'][:3]"
   ]
  },
  {
   "cell_type": "code",
   "execution_count": null,
   "metadata": {},
   "outputs": [],
   "source": [
    "# DODANIE CITY I COUNTRY\n",
    "city, country = (out['city']\n",
    "                    .values[0]\n",
    "                    .replace(\" \", \"\")\n",
    "                    .split(','))\n",
    "print(city)\n",
    "print(country)\n",
    "\n",
    "cities = []\n",
    "countries = []\n",
    "l = []\n",
    "for index in range(len(out['city'].values)):\n",
    "    l = (out['city']\n",
    "                    .values[index]\n",
    "                    .replace(\" \", \"\")\n",
    "                    .split(','))\n",
    "    cities.append(l[0])\n",
    "    countries.append(l[1])\n",
    "#     if len(l) > 2 :\n",
    "#         print(l[0])\n",
    "#         print(l[1])\n",
    "#         print(l[2])\n",
    "#         print(len(l))\n",
    "\n",
    "out = out.drop(['city'], axis=1)\n",
    "out['city'] = cities\n",
    "out['country'] = countries\n",
    "out[:3]"
   ]
  },
  {
   "cell_type": "code",
   "execution_count": null,
   "metadata": {},
   "outputs": [],
   "source": [
    "# DODANIE clicks_views_ratio oraz views\n",
    "\n",
    "import collections\n",
    "\n",
    "train_set_org_clickout_items = train_set_org[train_set_org['action_type'] == 'clickout item']\n",
    "\n",
    "df_expl = out.astype({'reference':int})\n",
    "views_of_id = df_expl['impressions'].value_counts()\n",
    "views_of_id_above_5 = views_of_id.where(views_of_id > 5).dropna()\n",
    "clicks_of_id = train_set_org_clickout_items['reference'].value_counts()\n",
    "clicks_of_id_above_3 = clicks_of_id.where(clicks_of_id > 3).dropna()\n",
    "\n",
    "item_metadata_separated_properties = pd.read_csv('D:\\\\Dokumenty\\\\Systemy_rekomendacyjne\\\\data\\\\item_metadata_separated_properties.csv',\n",
    "                       sep=',')\n",
    "list_of_ids = item_metadata_separated_properties['item_id'].values\n",
    "# list_of_ids = list(set(set(clicks_of_id_above_3.keys()).union(set(views_of_id_above_5.keys()))))\n",
    "\n",
    "# tworzenie słownika tylko powyżej 5 wyswietleń i 3 kliknięć, ratio tworzymy tylko z tych wartości, dla reszty ratio NaN\n",
    "# dict_id_ratio = dict.fromkeys(list_of_ids)\n",
    "# for id, values in dict_id_ratio.items():\n",
    "#     if (id in views_of_id_above_5.index) and (id in clicks_of_id_above_3.index):\n",
    "#         dict_id_ratio[id] = clicks_of_id_above_3[id] / views_of_id_above_5[id]\n",
    "\n",
    "# dict_id_ratio_without_none = {k: dict_id_ratio[k] for k in dict_id_ratio if dict_id_ratio[k] is not None}\n",
    "\n",
    "# df_id_ratio = pd.DataFrame.from_dict(dict_id_ratio_without_none, orient='index', columns=['clicks_views_ratio']).sort_values(by=['clicks_views_ratio'], ascending=False)\n",
    "# df_id_ratio = df_id_ratio.reset_index().rename(columns={'index':'item_id'})\n",
    "\n",
    "\n",
    "\n",
    "# merge z n_clicks\n",
    "df_clicks_of_id = clicks_of_id.to_frame(\"n_clicks\").reset_index().rename(columns={'index':'item_id'})\n",
    "out = out.astype({'impressions':str})\n",
    "out = out.merge(df_clicks_of_id,\n",
    "                left_on='impressions',\n",
    "                right_on='item_id',\n",
    "                how='left')\n",
    "out =  out.drop(['item_id'], axis=1)\n",
    "out[:3]\n",
    "\n",
    "# merge z ratio\n",
    "# out = out.merge(df_id_ratio,\n",
    "#                 left_on='impressions',\n",
    "#                 right_on='item_id',\n",
    "#                 how='left')\n",
    "# out =  out.drop(['item_id'], axis=1)\n",
    "\n",
    "# merge z views\n",
    "df_views_of_id = views_of_id.to_frame(\"views\").reset_index().rename(columns={'index':'item_id'})\n",
    "df_views_of_id = df_views_of_id.astype({'item_id':str})\n",
    "\n",
    "out = out.merge(df_views_of_id,\n",
    "                left_on='impressions',\n",
    "                right_on='item_id',\n",
    "                how='left')\n",
    "out =  out.drop(['item_id'], axis=1)\n",
    "\n",
    "# dodanie ratio\n",
    "out['clicks_views_ratio'] = out['n_clicks']/out['views']\n",
    "out[:3]"
   ]
  },
  {
   "cell_type": "code",
   "execution_count": null,
   "metadata": {},
   "outputs": [],
   "source": [
    "def mean_price(df):\n",
    "    return df['prices'].mean()"
   ]
  },
  {
   "cell_type": "code",
   "execution_count": null,
   "metadata": {},
   "outputs": [],
   "source": [
    "df_mean_price = out.groupby(['session_id', 'timestamp']).apply(mean_price).to_frame(\"mean_price\")\n",
    "df_mean_price[:3]"
   ]
  },
  {
   "cell_type": "code",
   "execution_count": null,
   "metadata": {},
   "outputs": [],
   "source": [
    "out = out.merge(df_mean_price,\n",
    "                     left_on=['session_id', 'timestamp'],\n",
    "                     right_on=['session_id', 'timestamp'],\n",
    "                     how='left')\n",
    "out[:3]"
   ]
  },
  {
   "cell_type": "code",
   "execution_count": null,
   "metadata": {},
   "outputs": [],
   "source": [
    "out['price_mean_difference'] = abs(out['prices'] - out['mean_price'])\n",
    "out[:3]"
   ]
  },
  {
   "cell_type": "code",
   "execution_count": null,
   "metadata": {},
   "outputs": [],
   "source": [
    "out = out.drop(['session_id', 'timestamp', 'step', 'action_type', 'current_filters', 'city', 'country', 'user_id'], axis=1)\n",
    "out[:5]"
   ]
  },
  {
   "cell_type": "code",
   "execution_count": null,
   "metadata": {},
   "outputs": [],
   "source": [
    "out = pd.concat([out, pd.get_dummies(out[['platform', 'device']])], axis=1)\n",
    "out = out.drop(['device', 'platform'], axis=1)\n",
    "out[:3]"
   ]
  },
  {
   "cell_type": "code",
   "execution_count": null,
   "metadata": {},
   "outputs": [],
   "source": [
    "# SAVE"
   ]
  },
  {
   "cell_type": "code",
   "execution_count": null,
   "metadata": {},
   "outputs": [],
   "source": [
    "# out_dummies.to_csv(\"D:\\\\Dokumenty\\\\Systemy_rekomendacyjne\\\\data\\\\out_dummies_2.csv\", sep=',', index=False)"
   ]
  },
  {
   "cell_type": "code",
   "execution_count": null,
   "metadata": {},
   "outputs": [],
   "source": [
    "# out_dummies = pd.read_csv(\"D:\\\\Dokumenty\\\\Systemy_rekomendacyjne\\\\data\\\\out_dummies.csv\", \n",
    "#                           sep=',', \n",
    "#                           nrows=1000)"
   ]
  },
  {
   "cell_type": "code",
   "execution_count": null,
   "metadata": {},
   "outputs": [],
   "source": [
    "# SAVE"
   ]
  },
  {
   "cell_type": "code",
   "execution_count": null,
   "metadata": {},
   "outputs": [],
   "source": [
    "# out.to_csv(\"D:\\\\Dokumenty\\\\Systemy_rekomendacyjne\\\\data\\\\out_3.csv\", sep=',', index=False)"
   ]
  },
  {
   "cell_type": "code",
   "execution_count": null,
   "metadata": {},
   "outputs": [],
   "source": [
    "item_metadata_separated_properties = pd.read_csv('D:\\\\Dokumenty\\\\Systemy_rekomendacyjne\\\\data\\\\item_metadata_separated_properties2.csv',\n",
    "                       sep=',')\n",
    "item_metadata_separated_properties[:5]"
   ]
  },
  {
   "cell_type": "code",
   "execution_count": null,
   "metadata": {},
   "outputs": [],
   "source": [
    "import time\n",
    "for x in range(2, 30):\n",
    "    start = time.time()\n",
    "    out = pd.read_csv(\"D:\\\\Dokumenty\\\\Systemy_rekomendacyjne\\\\data\\\\out_3.csv\", \n",
    "                              sep=',', \n",
    "                              nrows=1000000,\n",
    "                      skiprows=range(1,1000000*x)\n",
    "                     )\n",
    "    out = out.fillna(0)\n",
    "    out = out.rename(columns={'n_clicks_my':'n_clicks'})\n",
    "    out.iloc[:,9:] = out.iloc[:,9:].astype('int8')\n",
    "\n",
    "    out = out.drop(out.columns[8:67], axis=1)\n",
    "    out = out.drop(columns=['number_of_impressions', 'prices','mean_price'], axis=1)\n",
    "\n",
    "    # DODANIE ITEM PROPERTIES W ODDZIELNYCH KOLUMNACH (ONE HOT VECTORS)\n",
    "    # item_metadata_separated_properties = item_metadata_separated_properties.astype({'item_id':str})\n",
    "    out = out.merge(item_metadata_separated_properties,\n",
    "                                  left_on='impressions',\n",
    "                                  right_on='item_id',\n",
    "                                  how='left')\n",
    "    out = out.drop(['item_id', 'reference'], axis=1)\n",
    "    out = out.rename(columns={'impressions':'item_id'})\n",
    "    out = out.fillna(0)\n",
    "    out.iloc[:,5:] = out.iloc[:,5:].astype('int8')\n",
    "    out.iloc[:,2:4] = out.iloc[:,2:4].astype('int8')\n",
    "#     item_metadata_all = pd.read_csv(\"D:\\\\Dokumenty\\\\Systemy_rekomendacyjne\\\\data\\\\item_metadata_all.csv\", sep=',')\n",
    "#     item_metadata_all = pd.concat([item_metadata_all, out])\n",
    "    out.to_csv(\"D:\\\\Dokumenty\\\\Systemy_rekomendacyjne\\\\data\\\\item_metadata_all\" + str(x) + '.csv', sep=',', index=False)\n",
    "    end = time.time()\n",
    "    print(str(x) + '. ' + str(end-start))"
   ]
  },
  {
   "cell_type": "code",
   "execution_count": null,
   "metadata": {},
   "outputs": [
    {
     "name": "stderr",
     "output_type": "stream",
     "text": [
      "D:\\Instalowane\\Programy\\Anaconda3\\lib\\site-packages\\ipykernel_launcher.py:10: FutureWarning: Sorting because non-concatenation axis is not aligned. A future version\n",
      "of pandas will change to not sort by default.\n",
      "\n",
      "To accept the future behavior, pass 'sort=False'.\n",
      "\n",
      "To retain the current behavior and silence the warning, pass 'sort=True'.\n",
      "\n",
      "  # Remove the CWD from sys.path while we load stuff.\n"
     ]
    },
    {
     "name": "stdout",
     "output_type": "stream",
     "text": [
      "(2000000, 164)\n",
      "2. 40.15745425224304\n",
      "(3000000, 164)\n",
      "3. 42.61314105987549\n",
      "(4000000, 164)\n",
      "4. 56.49532413482666\n",
      "(5000000, 164)\n",
      "5. 91.60018467903137\n"
     ]
    }
   ],
   "source": [
    "import time\n",
    "item_metadata_all_final = pd.read_csv(\"D:\\\\Dokumenty\\\\Systemy_rekomendacyjne\\\\data\\\\item_metadata_all.csv\", sep=',')\n",
    "\n",
    "for x in range(2, 30):\n",
    "    start = time.time()\n",
    "    item_metadata_all = pd.read_csv(\"D:\\\\Dokumenty\\\\Systemy_rekomendacyjne\\\\data\\\\item_metadata_all\" + str(x) + '.csv', sep=',')\n",
    "    item_metadata_all.iloc[:,5:] = item_metadata_all.iloc[:,5:].astype('int8')\n",
    "    item_metadata_all.iloc[:,2:4] = item_metadata_all.iloc[:,2:4].astype('int8')\n",
    "\n",
    "    item_metadata_all_final = pd.concat([item_metadata_all_final, item_metadata_all])\n",
    "#     out.to_csv(\"D:\\\\Dokumenty\\\\Systemy_rekomendacyjne\\\\data\\\\item_metadata_all\" + str(x) + '.csv', sep=',', index=False)\n",
    "    print(item_metadata_all_final.shape)\n",
    "    end = time.time()\n",
    "    print(str(x) + '. ' + str(end-start))"
   ]
  },
  {
   "cell_type": "code",
   "execution_count": null,
   "metadata": {},
   "outputs": [],
   "source": [
    "# item_sum_of_properties = item_metadata_separated_properties[['item_id', 'sum_of_properties']]\n",
    "# item_metadata_separated_properties = None\n",
    "# item_sum_of_properties[:3]"
   ]
  },
  {
   "cell_type": "code",
   "execution_count": null,
   "metadata": {},
   "outputs": [],
   "source": [
    "out = out.fillna(0)\n",
    "nans = lambda df: df[df.isnull().any(axis=1)]\n",
    "nans(out)"
   ]
  },
  {
   "cell_type": "code",
   "execution_count": null,
   "metadata": {},
   "outputs": [],
   "source": [
    "out['sum_of_properties'] = out.iloc[:, 22:].sum(axis=1)\n",
    "out.iloc[:,9:].astype('int8').dtypes\n",
    "out[:3]"
   ]
  },
  {
   "cell_type": "code",
   "execution_count": null,
   "metadata": {},
   "outputs": [],
   "source": [
    "out = out.drop(out.columns[8:67], axis=1)\n",
    "out[:3]"
   ]
  },
  {
   "cell_type": "code",
   "execution_count": null,
   "metadata": {},
   "outputs": [],
   "source": [
    "# out.to_csv(\"D:\\\\Dokumenty\\\\Systemy_rekomendacyjne\\\\data\\\\out_final.csv\", sep=',', index=False)"
   ]
  },
  {
   "cell_type": "code",
   "execution_count": null,
   "metadata": {},
   "outputs": [],
   "source": [
    "# def get_popularity(df):\n",
    "#     \"\"\"Get number of clicks that each item received in the df.\"\"\"\n",
    "\n",
    "#     mask = df[\"action_type\"] == \"clickout item\"\n",
    "#     df_clicks = df[mask]\n",
    "#     df_item_clicks = (\n",
    "#         df_clicks\n",
    "#         .groupby(\"reference\")\n",
    "#         .size()\n",
    "#         .reset_index(name=\"n_clicks\")\n",
    "#         .transform(lambda x: x.astype(int))\n",
    "#     )\n",
    "    \n",
    "    \n",
    "\n",
    "#     # df_item_clicks = df[['reference', 'weight*n_clicks']]\n",
    "#     # df_item_clicks = df_item_clicks.rename(columns={'weight*n_clicks':'n_clicks'})\n",
    "\n",
    "#     return df_item_clicks"
   ]
  },
  {
   "cell_type": "code",
   "execution_count": null,
   "metadata": {},
   "outputs": [],
   "source": [
    "# train_set_org = pd.read_csv('D:\\\\Dokumenty\\\\Systemy_rekomendacyjne\\\\additional_resources\\\\2019-master\\data\\\\train.csv',\n",
    "#                        sep=',',\n",
    "# #                       nrows=10000,\n",
    "#                       index_col=0)\n",
    "# train_set_org[:3]\n",
    "# item_clicks = get_popularity(train_set_org)\n",
    "# train_set_org = None\n",
    "# item_clicks.shape"
   ]
  },
  {
   "cell_type": "code",
   "execution_count": null,
   "metadata": {},
   "outputs": [],
   "source": [
    "# # item_clicks = get_popularity(train_set_org)\n",
    "# out =  out.merge(item_clicks,\n",
    "#                 left_on='impressions',\n",
    "#                 right_on='reference',\n",
    "#                 how='left')\n",
    "# out[:3]"
   ]
  },
  {
   "cell_type": "code",
   "execution_count": null,
   "metadata": {},
   "outputs": [],
   "source": [
    "out = out.rename(columns={'reference':'first_on_list'})\n",
    "out[:10]"
   ]
  },
  {
   "cell_type": "code",
   "execution_count": null,
   "metadata": {},
   "outputs": [],
   "source": [
    "out = out.astype({'first_on_list' : str, 'impressions' : str})\n",
    "# out.dtypes"
   ]
  },
  {
   "cell_type": "code",
   "execution_count": null,
   "metadata": {},
   "outputs": [],
   "source": [
    "out['first_on_list'] = np.where(out['first_on_list'] == out['impressions'], 1, 0)\n",
    "# train.loc[train['first_on_list'] == train['impressions'], 'first_on_list'] = 1"
   ]
  },
  {
   "cell_type": "code",
   "execution_count": null,
   "metadata": {},
   "outputs": [],
   "source": [
    "out[:10]"
   ]
  },
  {
   "cell_type": "code",
   "execution_count": null,
   "metadata": {},
   "outputs": [],
   "source": [
    "out = out.drop(['impressions'], axis=1)\n",
    "out = out.astype('float')\n",
    "# out = out.drop(out.columns[8:67], axis=1)\n",
    "# out = out.drop(out.columns[8:223], axis=1)\n",
    "\n",
    "out[:10]"
   ]
  },
  {
   "cell_type": "code",
   "execution_count": null,
   "metadata": {},
   "outputs": [],
   "source": [
    "# out = out.drop(['prices', 'number_of_impressions', 'mean_price'], axis=1)"
   ]
  },
  {
   "cell_type": "code",
   "execution_count": null,
   "metadata": {},
   "outputs": [],
   "source": []
  },
  {
   "cell_type": "code",
   "execution_count": null,
   "metadata": {},
   "outputs": [],
   "source": [
    "from sklearn import preprocessing\n",
    "from sklearn.linear_model import LogisticRegression\n",
    "from sklearn.model_selection import train_test_split"
   ]
  },
  {
   "cell_type": "code",
   "execution_count": null,
   "metadata": {},
   "outputs": [],
   "source": [
    "# out.iloc[:, 0:1]"
   ]
  },
  {
   "cell_type": "code",
   "execution_count": null,
   "metadata": {},
   "outputs": [],
   "source": [
    "out = out.dropna()\n",
    "X = out.iloc[:, 1:]\n",
    "y = out['first_on_list'].values"
   ]
  },
  {
   "cell_type": "code",
   "execution_count": null,
   "metadata": {},
   "outputs": [],
   "source": [
    "from sklearn.preprocessing import StandardScaler, normalize\n",
    "X_train, X_test, y_train, y_test = train_test_split(X, y, test_size=0.3, random_state=0)\n",
    "sc = StandardScaler()\n",
    "sc.fit(X_train)\n",
    "X_train = sc.transform(X_train)\n",
    "X_train = normalize(X_train, norm='l2')\n",
    "X_test = sc.transform(X_test)\n",
    "X_test = normalize(X_test, norm='l2')"
   ]
  },
  {
   "cell_type": "code",
   "execution_count": null,
   "metadata": {},
   "outputs": [],
   "source": [
    "from imblearn.over_sampling import ADASYN\n",
    "adasyn = ADASYN(random_state=1, n_jobs=-1)\n",
    "X_train, y_train = adasyn.fit_resample(X_train, y_train)"
   ]
  },
  {
   "cell_type": "code",
   "execution_count": null,
   "metadata": {},
   "outputs": [],
   "source": [
    "logreg = LogisticRegression(n_jobs=-1) #, class_weight={1.0:0.4, 0.0:0.6}\n",
    "logreg.fit(X_train, y_train)"
   ]
  },
  {
   "cell_type": "code",
   "execution_count": null,
   "metadata": {},
   "outputs": [],
   "source": [
    "y_pred = logreg.predict(X_test)\n",
    "print('Accuracy of logistic regression classifier on test set: {:.2f}'.format(logreg.score(X_test, y_test)))\n",
    "# THRESHOLD = 0.7\n",
    "# y_pred = np.where(logreg.predict_proba(X_test)[:,1] > THRESHOLD, 1, 0)"
   ]
  },
  {
   "cell_type": "code",
   "execution_count": null,
   "metadata": {},
   "outputs": [],
   "source": [
    "from sklearn.metrics import confusion_matrix, classification_report, accuracy_score, balanced_accuracy_score\n",
    "print('balanced_accuracy_score: {0}'.format(balanced_accuracy_score(y_test, y_pred)))\n",
    "print('accuracy_score: {0}'.format(accuracy_score(y_test, y_pred)))\n",
    "\n",
    "print('Nieprawidłowo sklasyfikowane próbki: %d' % (y_test != y_pred).sum())\n",
    "\n",
    "print('classification_report :\\n', classification_report(y_test, y_pred))\n",
    "confmat = confusion_matrix(y_true=y_test, y_pred=y_pred)\n",
    "print(confmat)"
   ]
  },
  {
   "cell_type": "code",
   "execution_count": null,
   "metadata": {},
   "outputs": [],
   "source": []
  },
  {
   "cell_type": "code",
   "execution_count": null,
   "metadata": {},
   "outputs": [],
   "source": []
  },
  {
   "cell_type": "code",
   "execution_count": null,
   "metadata": {},
   "outputs": [],
   "source": [
    "test_set = pd.read_csv('D:\\\\Dokumenty\\\\Systemy_rekomendacyjne\\\\additional_resources\\\\2019-master\\data\\\\train.csv',\n",
    "                       sep=',',\n",
    "                      nrows=10000,\n",
    "                      index_col=0)\n",
    "# test_set = test_set[test_set['action_type'] == 'clickout item']\n",
    "test_set[:3]"
   ]
  },
  {
   "cell_type": "code",
   "execution_count": null,
   "metadata": {},
   "outputs": [],
   "source": [
    "def group_concat(df, gr_cols, col_concat):\n",
    "    \"\"\"Concatenate multiple rows into one.\"\"\"\n",
    "\n",
    "    df_out = (\n",
    "        df\n",
    "        .groupby(gr_cols)[col_concat]\n",
    "        .apply(lambda x: ' '.join(x))\n",
    "        .to_frame()\n",
    "        .reset_index()\n",
    "    )\n",
    "\n",
    "    return df_out"
   ]
  },
  {
   "cell_type": "code",
   "execution_count": null,
   "metadata": {},
   "outputs": [],
   "source": [
    "out_test_set = explode_impressions_and_prices(test_set)\n",
    "out_test_set[:3]"
   ]
  },
  {
   "cell_type": "code",
   "execution_count": null,
   "metadata": {},
   "outputs": [],
   "source": [
    "train_set_org = pd.read_csv('D:\\\\Dokumenty\\\\Systemy_rekomendacyjne\\\\additional_resources\\\\2019-master\\data\\\\train.csv',\n",
    "                       sep=',',\n",
    "#                       nrows=10000,\n",
    "                      index_col=0)\n",
    "train_set_org[:3]"
   ]
  },
  {
   "cell_type": "code",
   "execution_count": null,
   "metadata": {},
   "outputs": [],
   "source": [
    "import collections\n",
    "\n",
    "train_set_org_clickout_items = out_test_set[out_test_set['action_type'] == 'clickout item']\n",
    "\n",
    "df_expl = out_test_set.astype({'reference':int})\n",
    "views_of_id = df_expl['impressions'].value_counts()\n",
    "views_of_id_above_5 = views_of_id.where(views_of_id > 5).dropna()\n",
    "clicks_of_id = train_set_org_clickout_items['reference'].value_counts()\n",
    "clicks_of_id_above_3 = clicks_of_id.where(clicks_of_id > 3).dropna()\n",
    "\n",
    "item_metadata_separated_properties = pd.read_csv('D:\\\\Dokumenty\\\\Systemy_rekomendacyjne\\\\data\\\\item_metadata_separated_properties.csv',\n",
    "                       sep=',')\n",
    "list_of_ids = item_metadata_separated_properties['item_id'].values\n",
    "\n",
    "# merge z n_clicks\n",
    "df_clicks_of_id = clicks_of_id.to_frame(\"n_clicks\").reset_index().rename(columns={'index':'item_id'})\n",
    "out_test_set = out_test_set.astype({'impressions':str})\n",
    "out_test_set = out_test_set.merge(df_clicks_of_id,\n",
    "                left_on='impressions',\n",
    "                right_on='item_id',\n",
    "                how='left')\n",
    "out_test_set =  out_test_set.drop(['item_id'], axis=1)\n",
    "out_test_set[:3]\n",
    "\n",
    "# merge z views\n",
    "df_views_of_id = views_of_id.to_frame(\"views\").reset_index().rename(columns={'index':'item_id'})\n",
    "df_views_of_id = df_views_of_id.astype({'item_id':str})\n",
    "\n",
    "out_test_set = out_test_set.merge(df_views_of_id,\n",
    "                left_on='impressions',\n",
    "                right_on='item_id',\n",
    "                how='left')\n",
    "out_test_set =  out_test_set.drop(['item_id'], axis=1)\n",
    "\n",
    "# dodanie ratio\n",
    "out_test_set['clicks_views_ratio'] = out['n_clicks']/out['views']\n",
    "out_test_set[:3]"
   ]
  },
  {
   "cell_type": "code",
   "execution_count": null,
   "metadata": {},
   "outputs": [],
   "source": [
    "def mean_price(df):\n",
    "    return df['prices'].mean()\n",
    "df_mean_price = out_test_set.groupby(['session_id', 'timestamp']).apply(mean_price).to_frame(\"mean_price\")\n",
    "df_mean_price[:3]\n",
    "out_test_set = out_test_set.merge(df_mean_price,\n",
    "                     left_on=['session_id', 'timestamp'],\n",
    "                     right_on=['session_id', 'timestamp'],\n",
    "                     how='left')\n",
    "out_test_set[:3]\n",
    "out_test_set['price_mean_difference'] = abs(out_test_set['prices'] - out_test_set['mean_price'])\n",
    "out_test_set[:3]"
   ]
  },
  {
   "cell_type": "code",
   "execution_count": null,
   "metadata": {},
   "outputs": [],
   "source": [
    "test_set = out_test_set[['impressions','prices','number_of_impressions','n_clicks','views','clicks_views_ratio','mean_price','price_mean_difference']]\n",
    "test_set = test_set.fillna(0)\n",
    "test_set[:3]"
   ]
  },
  {
   "cell_type": "code",
   "execution_count": null,
   "metadata": {},
   "outputs": [],
   "source": [
    "test_set[:3]"
   ]
  },
  {
   "cell_type": "code",
   "execution_count": null,
   "metadata": {},
   "outputs": [],
   "source": []
  }
 ],
 "metadata": {
  "kernelspec": {
   "display_name": "Python 3",
   "language": "python",
   "name": "python3"
  },
  "language_info": {
   "codemirror_mode": {
    "name": "ipython",
    "version": 3
   },
   "file_extension": ".py",
   "mimetype": "text/x-python",
   "name": "python",
   "nbconvert_exporter": "python",
   "pygments_lexer": "ipython3",
   "version": "3.7.3"
  }
 },
 "nbformat": 4,
 "nbformat_minor": 2
}
