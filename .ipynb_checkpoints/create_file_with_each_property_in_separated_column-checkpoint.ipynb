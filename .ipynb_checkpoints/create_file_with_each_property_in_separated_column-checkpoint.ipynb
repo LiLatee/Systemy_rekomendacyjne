{
 "cells": [
  {
   "cell_type": "code",
   "execution_count": 1,
   "metadata": {},
   "outputs": [],
   "source": [
    "import json\n",
    "import pandas as pd\n",
    "import numpy as np"
   ]
  },
  {
   "cell_type": "code",
   "execution_count": null,
   "metadata": {},
   "outputs": [],
   "source": [
    "item_metadata_org = pd.read_csv('D:\\\\Dokumenty\\\\Systemy_rekomendacyjne\\\\data\\\\trivagoRecSysChallengeData2019_v2\\\\item_metadata.csv',\n",
    "                       sep=',')\n",
    "item_metadata_org[:5]"
   ]
  },
  {
   "cell_type": "code",
   "execution_count": null,
   "metadata": {},
   "outputs": [],
   "source": [
    "org_data_as_dict_of_dicts = item_metadata_org.set_index('item_id').to_dict(orient='index')"
   ]
  },
  {
   "cell_type": "code",
   "execution_count": null,
   "metadata": {},
   "outputs": [],
   "source": [
    "file_list_of_properties = open('D:\\\\Dokumenty\\\\Systemy_rekomendacyjne\\\\data\\\\set_of_features.txt')\n",
    "list_of_properties = json.loads(file_list_of_properties.read())"
   ]
  },
  {
   "cell_type": "code",
   "execution_count": null,
   "metadata": {},
   "outputs": [],
   "source": [
    "# tes = pd.DataFrame(columns=list_of_properties)\n",
    "# tes"
   ]
  },
  {
   "cell_type": "code",
   "execution_count": null,
   "metadata": {},
   "outputs": [],
   "source": [
    "new_df = item_metadata_org.drop(['properties'], axis=1)\n",
    "new_df[:5]"
   ]
  },
  {
   "cell_type": "code",
   "execution_count": null,
   "metadata": {},
   "outputs": [],
   "source": [
    "for property in list_of_properties:\n",
    "    new_df[property] = 0\n",
    "new_df[:5]"
   ]
  },
  {
   "cell_type": "code",
   "execution_count": null,
   "metadata": {},
   "outputs": [],
   "source": [
    "new_df_as_dict_of_dicts = new_df.set_index('item_id').to_dict(orient='index')"
   ]
  },
  {
   "cell_type": "code",
   "execution_count": null,
   "metadata": {},
   "outputs": [],
   "source": [
    "import time\n",
    "start = time.time()\n",
    "for item_id, value in org_data_as_dict_of_dicts.items():\n",
    "    list_of_properties = value['properties'].split('|')\n",
    "    for property in list_of_properties:\n",
    "        new_df_as_dict_of_dicts[item_id][property] = 1\n",
    "\n",
    "new_df = pd.DataFrame.from_dict(new_df_as_dict_of_dicts, orient='index')\n",
    "new_df[:5]\n",
    "end = time.time()\n",
    "print(end-start)"
   ]
  },
  {
   "cell_type": "code",
   "execution_count": null,
   "metadata": {},
   "outputs": [],
   "source": [
    "new_df = new_df.reset_index()\n",
    "new_df = new_df.rename(columns={\"index\": \"item_id\"})\n",
    "new_df[:5]"
   ]
  },
  {
   "cell_type": "code",
   "execution_count": null,
   "metadata": {},
   "outputs": [],
   "source": [
    "new_df['sum_of_properties'] = new_df.iloc[:,1:].sum(axis=1)\n",
    "new_df[:3]"
   ]
  },
  {
   "cell_type": "code",
   "execution_count": null,
   "metadata": {},
   "outputs": [],
   "source": [
    "item_metadata_values = pd.read_csv('D:\\\\Dokumenty\\\\Systemy_rekomendacyjne\\\\data\\\\item_metadata_values.csv',\n",
    "                       sep=',')\n",
    "item_metadata_values = item_metadata_values.fillna(0)\n",
    "item_metadata_values[:5]"
   ]
  },
  {
   "cell_type": "code",
   "execution_count": null,
   "metadata": {},
   "outputs": [],
   "source": [
    "item_metadata_all = item_metadata_values.merge(new_df,\n",
    "                                              left_on='item_id',\n",
    "                                              right_on='item_id',\n",
    "                                              how='left')\n",
    "item_metadata_all[:3]"
   ]
  },
  {
   "cell_type": "code",
   "execution_count": 10,
   "metadata": {},
   "outputs": [],
   "source": [
    "# item_metadata_all.to_csv('D:\\\\Dokumenty\\\\Systemy_rekomendacyjne\\\\data\\\\item_metadata_all.csv', index=False, sep=',')"
   ]
  }
 ],
 "metadata": {
  "kernelspec": {
   "display_name": "Python 3",
   "language": "python",
   "name": "python3"
  },
  "language_info": {
   "codemirror_mode": {
    "name": "ipython",
    "version": 3
   },
   "file_extension": ".py",
   "mimetype": "text/x-python",
   "name": "python",
   "nbconvert_exporter": "python",
   "pygments_lexer": "ipython3",
   "version": "3.7.3"
  }
 },
 "nbformat": 4,
 "nbformat_minor": 2
}
