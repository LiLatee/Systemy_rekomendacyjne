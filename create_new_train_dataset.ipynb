{
 "cells": [
  {
   "cell_type": "code",
   "execution_count": null,
   "metadata": {},
   "outputs": [],
   "source": [
    "import numpy as np\n",
    "import pandas as pd\n",
    "import json"
   ]
  },
  {
   "cell_type": "code",
   "execution_count": null,
   "metadata": {},
   "outputs": [],
   "source": [
    "train_set_org = pd.read_csv('D:\\\\Dokumenty\\\\Systemy_rekomendacyjne\\\\additional_resources\\\\2019-master\\data\\\\train.csv',\n",
    "                       sep=',',\n",
    "                      nrows=100,\n",
    "                      index_col=0)\n",
    "train_set_org[:3]"
   ]
  },
  {
   "cell_type": "code",
   "execution_count": null,
   "metadata": {},
   "outputs": [],
   "source": [
    "train = train_set_org[train_set_org['action_type'] == 'clickout item']"
   ]
  },
  {
   "cell_type": "code",
   "execution_count": null,
   "metadata": {},
   "outputs": [],
   "source": [
    "train = train.drop(['action_type', 'timestamp', 'step'], axis=1)"
   ]
  },
  {
   "cell_type": "code",
   "execution_count": null,
   "metadata": {},
   "outputs": [],
   "source": [
    "train[:5]"
   ]
  },
  {
   "cell_type": "code",
   "execution_count": null,
   "metadata": {},
   "outputs": [],
   "source": [
    "# dodanie properties o hotelu z id w kolumnie reference"
   ]
  },
  {
   "cell_type": "code",
   "execution_count": null,
   "metadata": {},
   "outputs": [],
   "source": [
    "item_metadata_org = pd.read_csv('D:\\\\Dokumenty\\\\Systemy_rekomendacyjne\\\\data\\\\item_metadata_separated_properties.csv',\n",
    "                       sep=',')\n",
    "# item_metadata_org.set_index('item_id')\n",
    "item_metadata_org[:5]"
   ]
  },
  {
   "cell_type": "code",
   "execution_count": null,
   "metadata": {},
   "outputs": [],
   "source": [
    "item_metadata_org = item_metadata_org.rename(columns={\"item_id\": \"reference\"})\n",
    "item_metadata_org = item_metadata_org.set_index('reference')\n",
    "item_metadata_org[:5]"
   ]
  },
  {
   "cell_type": "code",
   "execution_count": null,
   "metadata": {},
   "outputs": [],
   "source": [
    "new_train = train.copy()"
   ]
  },
  {
   "cell_type": "code",
   "execution_count": null,
   "metadata": {},
   "outputs": [],
   "source": [
    "new_train['reference'] = new_train['reference'].astype(int)\n",
    "new_train = new_train.join(item_metadata_org, on='reference')\n",
    "new_train[:5]"
   ]
  },
  {
   "cell_type": "code",
   "execution_count": null,
   "metadata": {},
   "outputs": [],
   "source": [
    "new_train.shape"
   ]
  },
  {
   "cell_type": "code",
   "execution_count": null,
   "metadata": {},
   "outputs": [],
   "source": [
    "# usunięcie wierszy z hotelami, o których nie mamy informacji w pliku item_metadata\n",
    "new_train = new_train.loc[(new_train['Guest House'] ==  1.0) | (new_train['Guest House'] ==  0.0)]"
   ]
  },
  {
   "cell_type": "code",
   "execution_count": null,
   "metadata": {},
   "outputs": [],
   "source": [
    "new_train.shape"
   ]
  },
  {
   "cell_type": "code",
   "execution_count": null,
   "metadata": {},
   "outputs": [],
   "source": [
    "# new_train.iloc[1:,9:].isna().sum()\n",
    "# new_train.loc[(new_train['Guest House'] !=  1.0) & (new_train['Guest House'] !=  0.0)]"
   ]
  },
  {
   "cell_type": "code",
   "execution_count": null,
   "metadata": {},
   "outputs": [],
   "source": [
    "new_train_without_properties = new_train.iloc[:,:9]\n",
    "new_train_only_properties = new_train.iloc[:,9:].astype(int)\n",
    "new_train = pd.concat([new_train_without_properties, new_train_only_properties], axis=1, sort=False)\n",
    "new_train[:5]"
   ]
  },
  {
   "cell_type": "code",
   "execution_count": null,
   "metadata": {},
   "outputs": [],
   "source": []
  },
  {
   "cell_type": "code",
   "execution_count": null,
   "metadata": {},
   "outputs": [],
   "source": [
    "##################### podział impressions i prices\n",
    "new_train_as_dict_of_dicts = new_train.to_dict(orient='index')\n",
    "for item_id, value in new_train_as_dict_of_dicts.items():\n",
    "    list_of_impressions = value['impressions'].split('|')\n",
    "    list_of_prices = value['prices'].split('|')\n",
    "\n",
    "    counter = 0\n",
    "    for impression in list_of_impressions:\n",
    "        new_train_as_dict_of_dicts[item_id]['rank_' + str(counter)] = impression\n",
    "    for price in list_of_prices:\n",
    "        new_train_as_dict_of_dicts[item_id]['price_' + str(counter)] = price\n",
    "        counter = counter + 1\n",
    "\n",
    "new_df = pd.DataFrame.from_dict(new_train_as_dict_of_dicts, orient='index')\n",
    "new_df = new_df.drop(['impressions', 'prices'], axis=1)\n",
    "new_df[:5]"
   ]
  },
  {
   "cell_type": "code",
   "execution_count": null,
   "metadata": {},
   "outputs": [],
   "source": [
    "new_df.iloc[:,-25:]"
   ]
  },
  {
   "cell_type": "code",
   "execution_count": null,
   "metadata": {},
   "outputs": [],
   "source": [
    "def get_popularity(df):\n",
    "    \"\"\"Get number of clicks that each item received in the df.\"\"\"\n",
    "\n",
    "    mask = df[\"action_type\"] == \"clickout item\"\n",
    "    df_clicks = df[mask]\n",
    "    df_item_clicks = (\n",
    "        df_clicks\n",
    "        .groupby(\"reference\")\n",
    "        .size()\n",
    "        .reset_index(name=\"n_clicks\")\n",
    "        .transform(lambda x: x.astype(int))\n",
    "    )\n",
    "\n",
    "    return df_item_clicks\n"
   ]
  },
  {
   "cell_type": "code",
   "execution_count": null,
   "metadata": {},
   "outputs": [],
   "source": [
    "df_pop = get_popularity(merged)\n",
    "merged_test = df_pop.reset_index().merge(\n",
    "    merged[['reference', 'properties_sum']],\n",
    "    left_on='reference',\n",
    "    right_on='reference',\n",
    "    how='left')\n",
    "merged_test[:5]"
   ]
  },
  {
   "cell_type": "code",
   "execution_count": null,
   "metadata": {},
   "outputs": [],
   "source": [
    "import math\n",
    "def string_to_array(s):\n",
    "    \"\"\"Convert pipe separated string to array.\"\"\"\n",
    "\n",
    "    if isinstance(s, str):\n",
    "        out = s.split(\"|\")\n",
    "    elif math.isnan(s):\n",
    "        out = []\n",
    "    else:\n",
    "        raise ValueError(\"Value must be either string of nan\")\n",
    "    return out"
   ]
  },
  {
   "cell_type": "code",
   "execution_count": null,
   "metadata": {},
   "outputs": [],
   "source": [
    "col_expl = 'impressions'\n",
    "df = train_set_org.copy()\n",
    "df.loc[:, col_expl] = df[col_expl].apply(string_to_array)  # zamienia 1|2|3 na [1,2,3]\n",
    "\n",
    "df_out = pd.DataFrame(\n",
    "    {col: np.repeat(df[col].values,\n",
    "                    df[col_expl].str.len())\n",
    "     for col in df.columns.drop(col_expl)}\n",
    ")\n",
    "\n",
    "df_out.loc[:, col_expl] = np.concatenate(df[col_expl].values)\n",
    "df_out.loc[:, col_expl] = df_out[col_expl].apply(int)\n",
    "df_out[:50]"
   ]
  },
  {
   "cell_type": "code",
   "execution_count": null,
   "metadata": {},
   "outputs": [],
   "source": [
    "item_metadata_org.iloc[:5, 1:]"
   ]
  },
  {
   "cell_type": "code",
   "execution_count": null,
   "metadata": {},
   "outputs": [],
   "source": []
  }
 ],
 "metadata": {
  "kernelspec": {
   "display_name": "Python 3",
   "language": "python",
   "name": "python3"
  },
  "language_info": {
   "codemirror_mode": {
    "name": "ipython",
    "version": 3
   },
   "file_extension": ".py",
   "mimetype": "text/x-python",
   "name": "python",
   "nbconvert_exporter": "python",
   "pygments_lexer": "ipython3",
   "version": "3.7.3"
  }
 },
 "nbformat": 4,
 "nbformat_minor": 2
}
