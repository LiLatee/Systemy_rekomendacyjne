{
 "cells": [
  {
   "cell_type": "code",
   "execution_count": null,
   "metadata": {},
   "outputs": [],
   "source": [
    "import pandas as pd\n",
    "import numpy as np\n",
    "headers = ['Sale','SalesAmountInEuro','time_delay_for_conversion','click_timestamp','nb_clicks_1week','product_price' ,'product_age_group' ,'device_type','audience_id' ,'product_gender' ,'product_brand' ,'product_category(1)', 'product_category(2)', 'product_category(3)', 'product_category(4)', 'product_category(5)', 'product_category(6)', 'product_category(7)', 'product_country', 'product_id' ,'product_title' ,'partner_id' ,'user_id']\n",
    "df_original = pd.read_csv('D:\\Projekty\\Engineering_Thesis\\Dataset\\Criteo_Conversion_Search\\CriteoSearchData-sorted.csv',\n",
    "                 sep='\\t',\n",
    "#                  nrows=100,\n",
    "                 names=headers,\n",
    "                 low_memory=False,\n",
    "                 usecols=[0,1,2,3,4,5,6,7,8,9,10,11,12,13,14,15,16,17,18,19,20,21,22])\n",
    "# df_original = df_original.sort(column='click_timestamp', ascending=True)\n",
    "# df_original.iloc[:10,:]\n",
    "lst = [df_original]"
   ]
  },
  {
   "cell_type": "code",
   "execution_count": null,
   "metadata": {},
   "outputs": [],
   "source": [
    "# zbieranie unikalnych wartości kolumn do słownika\n",
    "#  indeksy kolumn, z których tworzymy one hot vectors [6, 7, 9, 11, 12, 13, 14, 15, 16, 17, 18, 21]\n",
    "df_original_columns_list = ['product_age_group',\n",
    "                   'device_type',\n",
    "                   'product_gender',\n",
    "                   'product_category(1)',\n",
    "                   'product_category(2)',\n",
    "                   'product_category(3)',\n",
    "                   'product_category(4)',\n",
    "                   'product_category(5)',\n",
    "                   'product_category(6)',\n",
    "                   'product_category(7)',\n",
    "                   'product_country', \n",
    "                   'partner_id']\n",
    "\n",
    "name_uniqueValues_dict = dict.fromkeys(df_original_columns_list)\n",
    "for column_name in df_original_columns_list:\n",
    "    name_uniqueValues_dict[column_name] = np.delete(df_original[column_name].unique(), 0)\n",
    "\n",
    "# for v in name_uniqueValues_dict.values():\n",
    "#     print(len(v))"
   ]
  },
  {
   "cell_type": "code",
   "execution_count": null,
   "metadata": {},
   "outputs": [],
   "source": [
    "# tworzenie listy zawierającej nazwy wszystkich wymaganych kolumn\n",
    "required_columns_list = np.array([])\n",
    "required_columns_list = np.append(required_columns_list, ['Sale'])\n",
    "required_columns_list = np.append(required_columns_list, ['SalesAmountInEuro'])\n",
    "required_columns_list = np.append(required_columns_list, ['time_delay_for_conversion'])\n",
    "required_columns_list = np.append(required_columns_list, ['click_timestamp'])\n",
    "required_columns_list = np.append(required_columns_list, ['nb_clicks_1week'])\n",
    "\n",
    "for column_name in df_original_columns_list:\n",
    "    for i, value in enumerate(name_uniqueValues_dict[column_name]):\n",
    "        x = column_name + '_' + str(value)\n",
    "        required_columns_list = np.append(required_columns_list, [x])\n",
    "\n",
    "\n",
    "with open('required_column_names_list.txt', 'w') as f:\n",
    "    for item in required_columns_list:\n",
    "        f.write(\"%s\\n\" % item)"
   ]
  }
 ],
 "metadata": {
  "kernelspec": {
   "display_name": "Python 3",
   "language": "python",
   "name": "python3"
  },
  "language_info": {
   "codemirror_mode": {
    "name": "ipython",
    "version": 3
   },
   "file_extension": ".py",
   "mimetype": "text/x-python",
   "name": "python",
   "nbconvert_exporter": "python",
   "pygments_lexer": "ipython3",
   "version": "3.7.3"
  }
 },
 "nbformat": 4,
 "nbformat_minor": 2
}
