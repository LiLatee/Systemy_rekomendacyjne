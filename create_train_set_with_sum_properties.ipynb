{
 "cells": [
  {
   "cell_type": "code",
   "execution_count": null,
   "metadata": {},
   "outputs": [],
   "source": [
    "import numpy as np\n",
    "import pandas as pd\n",
    "import json\n",
    "from sklearn.preprocessing import StandardScaler, normalize"
   ]
  },
  {
   "cell_type": "code",
   "execution_count": null,
   "metadata": {},
   "outputs": [],
   "source": [
    "train_set_org = pd.read_csv('D:\\\\Dokumenty\\\\Systemy_rekomendacyjne\\\\additional_resources\\\\2019-master\\\\data\\\\train.csv',\n",
    "                       sep=',',\n",
    "#                       nrows=100,\n",
    "                      index_col=0)\n",
    "train_set_org[:3]"
   ]
  },
  {
   "cell_type": "code",
   "execution_count": null,
   "metadata": {},
   "outputs": [],
   "source": [
    "item_metadata_org = pd.read_csv('D:\\\\Dokumenty\\\\Systemy_rekomendacyjne\\\\data\\\\item_metadata_separated_properties.csv',\n",
    "                       sep=',')\n",
    "# item_metadata_org.set_index('item_id')\n",
    "item_metadata_org[:5]"
   ]
  },
  {
   "cell_type": "code",
   "execution_count": null,
   "metadata": {},
   "outputs": [],
   "source": [
    "columns = item_metadata_org.columns.to_list()\n",
    "item_metadata_org['properties_sum'] = (item_metadata_org[item_metadata_org[columns] == 1]).sum(axis=1)\n",
    "item_metadata_org['properties_sum'] = item_metadata_org['properties_sum'].astype(int)\n",
    "item_metadata_org[:10]"
   ]
  },
  {
   "cell_type": "code",
   "execution_count": null,
   "metadata": {},
   "outputs": [],
   "source": [
    "new_train = train_set_org[train_set_org['action_type'] == 'clickout item']\n",
    "new_train['reference'] = new_train['reference'].astype(int)"
   ]
  },
  {
   "cell_type": "code",
   "execution_count": null,
   "metadata": {},
   "outputs": [],
   "source": [
    "merged = new_train.merge(\n",
    "    item_metadata_org[['item_id','properties_sum']],\n",
    "    left_on='reference',\n",
    "    right_on='item_id',\n",
    "    how='left')\n",
    "merged['properties_sum'] = merged['properties_sum'].fillna(0) # występują NaN w properties?\n",
    "merged['properties_sum'] = merged['properties_sum'].astype(int)\n",
    "merged = merged.drop('item_id', axis=1)\n",
    "merged[:10]"
   ]
  },
  {
   "cell_type": "code",
   "execution_count": null,
   "metadata": {},
   "outputs": [],
   "source": [
    "merged = merged.reset_index()\n",
    "# merged.to_csv('D:\\\\Dokumenty\\\\Systemy_rekomendacyjne\\\\additional_resources\\\\2019-master\\\\data\\\\train_sum.csv', sep=',', index=False)"
   ]
  },
  {
   "cell_type": "code",
   "execution_count": null,
   "metadata": {},
   "outputs": [],
   "source": []
  },
  {
   "cell_type": "code",
   "execution_count": null,
   "metadata": {},
   "outputs": [],
   "source": []
  }
 ],
 "metadata": {
  "kernelspec": {
   "display_name": "Python 3",
   "language": "python",
   "name": "python3"
  },
  "language_info": {
   "codemirror_mode": {
    "name": "ipython",
    "version": 3
   },
   "file_extension": ".py",
   "mimetype": "text/x-python",
   "name": "python",
   "nbconvert_exporter": "python",
   "pygments_lexer": "ipython3",
   "version": "3.7.3"
  }
 },
 "nbformat": 4,
 "nbformat_minor": 2
}
