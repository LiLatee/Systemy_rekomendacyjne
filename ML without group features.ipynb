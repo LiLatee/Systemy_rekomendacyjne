{
 "cells": [
  {
   "cell_type": "code",
   "execution_count": 23,
   "metadata": {},
   "outputs": [],
   "source": [
    "import pandas as pd\n",
    "import numpy as np\n",
    "import collections\n",
    "import time\n",
    "import math"
   ]
  },
  {
   "cell_type": "code",
   "execution_count": 24,
   "metadata": {},
   "outputs": [
    {
     "data": {
      "text/plain": [
       "(813442, 162)"
      ]
     },
     "execution_count": 24,
     "metadata": {},
     "output_type": "execute_result"
    }
   ],
   "source": [
    "item_metadata = pd.read_csv('D:\\\\Dokumenty\\\\Systemy_rekomendacyjne\\\\data\\\\item_metadata_all.csv',\n",
    "                           sep=','\n",
    "#                            ,usecols=['item_id','n_clicks','views','clicks_views_ratio','sum_of_properties',\n",
    "#                                    'Satisfactory Rating', 'Shower','Washing Machine', 'Fridge','3 Star',\n",
    "#                                     'Air Conditioning','Good Rating','Car Park' ]\n",
    "                           )\n",
    "item_metadata['item_id'] = item_metadata['item_id'].astype(int)\n",
    "item_metadata.shape"
   ]
  },
  {
   "cell_type": "code",
   "execution_count": 25,
   "metadata": {},
   "outputs": [
    {
     "name": "stdout",
     "output_type": "stream",
     "text": [
      "(660653, 13)\n"
     ]
    },
    {
     "data": {
      "text/html": [
       "<div>\n",
       "<style scoped>\n",
       "    .dataframe tbody tr th:only-of-type {\n",
       "        vertical-align: middle;\n",
       "    }\n",
       "\n",
       "    .dataframe tbody tr th {\n",
       "        vertical-align: top;\n",
       "    }\n",
       "\n",
       "    .dataframe thead th {\n",
       "        text-align: right;\n",
       "    }\n",
       "</style>\n",
       "<table border=\"1\" class=\"dataframe\">\n",
       "  <thead>\n",
       "    <tr style=\"text-align: right;\">\n",
       "      <th></th>\n",
       "      <th>index</th>\n",
       "      <th>session_id</th>\n",
       "      <th>timestamp</th>\n",
       "      <th>user_id</th>\n",
       "      <th>step</th>\n",
       "      <th>action_type</th>\n",
       "      <th>reference</th>\n",
       "      <th>platform</th>\n",
       "      <th>city</th>\n",
       "      <th>device</th>\n",
       "      <th>current_filters</th>\n",
       "      <th>impressions</th>\n",
       "      <th>prices</th>\n",
       "    </tr>\n",
       "  </thead>\n",
       "  <tbody>\n",
       "    <tr>\n",
       "      <th>15</th>\n",
       "      <td>6000014</td>\n",
       "      <td>de86377f72f0f</td>\n",
       "      <td>1541248401</td>\n",
       "      <td>V2M2533G2TVI</td>\n",
       "      <td>7</td>\n",
       "      <td>clickout item</td>\n",
       "      <td>4936470</td>\n",
       "      <td>AU</td>\n",
       "      <td>Melbourne, Australia</td>\n",
       "      <td>desktop</td>\n",
       "      <td>Serviced Apartment</td>\n",
       "      <td>109094|55074|101988|8472964|109095|848971|2291...</td>\n",
       "      <td>139|130|91|266|231|122|125|108|161|120|104|106...</td>\n",
       "    </tr>\n",
       "    <tr>\n",
       "      <th>34</th>\n",
       "      <td>6000033</td>\n",
       "      <td>0d993d2278335</td>\n",
       "      <td>1541248402</td>\n",
       "      <td>388RD30GUJBJ</td>\n",
       "      <td>3</td>\n",
       "      <td>clickout item</td>\n",
       "      <td>47173</td>\n",
       "      <td>UK</td>\n",
       "      <td>Eastbourne, United Kingdom</td>\n",
       "      <td>mobile</td>\n",
       "      <td>NaN</td>\n",
       "      <td>47802|1062872|47173|1556531|46676|914675|32280...</td>\n",
       "      <td>148|63|76|71|50|44|63|59|80|71|82|50|62|57|64|...</td>\n",
       "    </tr>\n",
       "    <tr>\n",
       "      <th>37</th>\n",
       "      <td>6000036</td>\n",
       "      <td>d02ea044226bc</td>\n",
       "      <td>1541248402</td>\n",
       "      <td>F3W2KEFHJ2QL</td>\n",
       "      <td>16</td>\n",
       "      <td>clickout item</td>\n",
       "      <td>2326194</td>\n",
       "      <td>AR</td>\n",
       "      <td>Maceió, Brazil</td>\n",
       "      <td>desktop</td>\n",
       "      <td>NaN</td>\n",
       "      <td>2326194|109324|2179366|1321131|111530|478651|2...</td>\n",
       "      <td>226|207|143|185|137|171|135|121|205|83|176|149...</td>\n",
       "    </tr>\n",
       "  </tbody>\n",
       "</table>\n",
       "</div>"
      ],
      "text/plain": [
       "      index     session_id   timestamp       user_id  step    action_type  \\\n",
       "15  6000014  de86377f72f0f  1541248401  V2M2533G2TVI     7  clickout item   \n",
       "34  6000033  0d993d2278335  1541248402  388RD30GUJBJ     3  clickout item   \n",
       "37  6000036  d02ea044226bc  1541248402  F3W2KEFHJ2QL    16  clickout item   \n",
       "\n",
       "   reference platform                        city   device  \\\n",
       "15   4936470       AU        Melbourne, Australia  desktop   \n",
       "34     47173       UK  Eastbourne, United Kingdom   mobile   \n",
       "37   2326194       AR              Maceió, Brazil  desktop   \n",
       "\n",
       "       current_filters                                        impressions  \\\n",
       "15  Serviced Apartment  109094|55074|101988|8472964|109095|848971|2291...   \n",
       "34                 NaN  47802|1062872|47173|1556531|46676|914675|32280...   \n",
       "37                 NaN  2326194|109324|2179366|1321131|111530|478651|2...   \n",
       "\n",
       "                                               prices  \n",
       "15  139|130|91|266|231|122|125|108|161|120|104|106...  \n",
       "34  148|63|76|71|50|44|63|59|80|71|82|50|62|57|64|...  \n",
       "37  226|207|143|185|137|171|135|121|205|83|176|149...  "
      ]
     },
     "execution_count": 25,
     "metadata": {},
     "output_type": "execute_result"
    }
   ],
   "source": [
    "train = pd.read_csv('D:\\\\Dokumenty\\\\Systemy_rekomendacyjne\\\\data\\\\train.csv',\n",
    "                       sep=',',\n",
    "                    skiprows=range(1, 6000000)\n",
    "#                    nrows=100000\n",
    "                   )\n",
    "train = train[train[\"action_type\"] == \"clickout item\"]\n",
    "print(train.shape)\n",
    "train[:3]"
   ]
  },
  {
   "cell_type": "code",
   "execution_count": 26,
   "metadata": {},
   "outputs": [],
   "source": [
    "def string_to_array(s):\n",
    "    \"\"\"Convert pipe separated string to array.\"\"\"\n",
    "\n",
    "    if isinstance(s, str):\n",
    "        out = s.split(\"|\")\n",
    "    elif math.isnan(s):\n",
    "        out = []\n",
    "    else:\n",
    "        raise ValueError(\"Value must be either string of nan\")\n",
    "    return out\n",
    "\n",
    "def explode_impressions_and_prices(df_in):\n",
    "    \"\"\"Explode column col_expl of array type into multiple rows.\"\"\"\n",
    "\n",
    "    df = df_in.copy()\n",
    "    df.loc[:, 'impressions'] = df['impressions'].apply(string_to_array)  # zamienia 1|2|3 na [1,2,3]\n",
    "    df.loc[:, 'prices'] = df['prices'].apply(string_to_array)  # zamienia 1|2|3 na [1,2,3]\n",
    "\n",
    "    df = df.sort_values(by=['session_id'])\n",
    "    df['number_of_impressions'] = df['impressions'].apply(len)\n",
    "    \n",
    "    df_out = pd.DataFrame(\n",
    "        {col: np.repeat(df[col].values,\n",
    "                        df['impressions'].str.len())\n",
    "         for col in df.columns.drop('impressions')}\n",
    "    )\n",
    "    \n",
    "\n",
    "    df_out.loc[:, 'impressions'] = np.concatenate(df['impressions'].values)\n",
    "    df_out.loc[:, 'impressions'] = df_out['impressions'].apply(int)\n",
    "    \n",
    "    df_out.loc[:, 'prices'] = np.concatenate(df['prices'].values)\n",
    "    df_out.loc[:, 'prices'] = df_out['prices'].apply(int)\n",
    "\n",
    "    return df_out"
   ]
  },
  {
   "cell_type": "code",
   "execution_count": 27,
   "metadata": {},
   "outputs": [
    {
     "data": {
      "text/html": [
       "<div>\n",
       "<style scoped>\n",
       "    .dataframe tbody tr th:only-of-type {\n",
       "        vertical-align: middle;\n",
       "    }\n",
       "\n",
       "    .dataframe tbody tr th {\n",
       "        vertical-align: top;\n",
       "    }\n",
       "\n",
       "    .dataframe thead th {\n",
       "        text-align: right;\n",
       "    }\n",
       "</style>\n",
       "<table border=\"1\" class=\"dataframe\">\n",
       "  <thead>\n",
       "    <tr style=\"text-align: right;\">\n",
       "      <th></th>\n",
       "      <th>index</th>\n",
       "      <th>session_id</th>\n",
       "      <th>timestamp</th>\n",
       "      <th>user_id</th>\n",
       "      <th>step</th>\n",
       "      <th>action_type</th>\n",
       "      <th>reference</th>\n",
       "      <th>platform</th>\n",
       "      <th>city</th>\n",
       "      <th>device</th>\n",
       "      <th>current_filters</th>\n",
       "      <th>prices</th>\n",
       "      <th>number_of_impressions</th>\n",
       "      <th>impressions</th>\n",
       "    </tr>\n",
       "  </thead>\n",
       "  <tbody>\n",
       "    <tr>\n",
       "      <th>0</th>\n",
       "      <td>8312303</td>\n",
       "      <td>000066611146f</td>\n",
       "      <td>1541332330</td>\n",
       "      <td>XRIOQ0R1CHLT</td>\n",
       "      <td>3</td>\n",
       "      <td>clickout item</td>\n",
       "      <td>5479306</td>\n",
       "      <td>BE</td>\n",
       "      <td>Obaköy, Turkey</td>\n",
       "      <td>desktop</td>\n",
       "      <td>Hotel|Resort</td>\n",
       "      <td>96</td>\n",
       "      <td>25</td>\n",
       "      <td>5479306</td>\n",
       "    </tr>\n",
       "    <tr>\n",
       "      <th>1</th>\n",
       "      <td>8312303</td>\n",
       "      <td>000066611146f</td>\n",
       "      <td>1541332330</td>\n",
       "      <td>XRIOQ0R1CHLT</td>\n",
       "      <td>3</td>\n",
       "      <td>clickout item</td>\n",
       "      <td>5479306</td>\n",
       "      <td>BE</td>\n",
       "      <td>Obaköy, Turkey</td>\n",
       "      <td>desktop</td>\n",
       "      <td>Hotel|Resort</td>\n",
       "      <td>81</td>\n",
       "      <td>25</td>\n",
       "      <td>97126</td>\n",
       "    </tr>\n",
       "    <tr>\n",
       "      <th>2</th>\n",
       "      <td>8312303</td>\n",
       "      <td>000066611146f</td>\n",
       "      <td>1541332330</td>\n",
       "      <td>XRIOQ0R1CHLT</td>\n",
       "      <td>3</td>\n",
       "      <td>clickout item</td>\n",
       "      <td>5479306</td>\n",
       "      <td>BE</td>\n",
       "      <td>Obaköy, Turkey</td>\n",
       "      <td>desktop</td>\n",
       "      <td>Hotel|Resort</td>\n",
       "      <td>87</td>\n",
       "      <td>25</td>\n",
       "      <td>2195126</td>\n",
       "    </tr>\n",
       "  </tbody>\n",
       "</table>\n",
       "</div>"
      ],
      "text/plain": [
       "     index     session_id   timestamp       user_id  step    action_type  \\\n",
       "0  8312303  000066611146f  1541332330  XRIOQ0R1CHLT     3  clickout item   \n",
       "1  8312303  000066611146f  1541332330  XRIOQ0R1CHLT     3  clickout item   \n",
       "2  8312303  000066611146f  1541332330  XRIOQ0R1CHLT     3  clickout item   \n",
       "\n",
       "  reference platform            city   device current_filters  prices  \\\n",
       "0   5479306       BE  Obaköy, Turkey  desktop    Hotel|Resort      96   \n",
       "1   5479306       BE  Obaköy, Turkey  desktop    Hotel|Resort      81   \n",
       "2   5479306       BE  Obaköy, Turkey  desktop    Hotel|Resort      87   \n",
       "\n",
       "   number_of_impressions  impressions  \n",
       "0                     25      5479306  \n",
       "1                     25        97126  \n",
       "2                     25      2195126  "
      ]
     },
     "execution_count": 27,
     "metadata": {},
     "output_type": "execute_result"
    }
   ],
   "source": [
    "train = explode_impressions_and_prices(train)\n",
    "train[:3]"
   ]
  },
  {
   "cell_type": "code",
   "execution_count": 28,
   "metadata": {},
   "outputs": [
    {
     "data": {
      "text/html": [
       "<div>\n",
       "<style scoped>\n",
       "    .dataframe tbody tr th:only-of-type {\n",
       "        vertical-align: middle;\n",
       "    }\n",
       "\n",
       "    .dataframe tbody tr th {\n",
       "        vertical-align: top;\n",
       "    }\n",
       "\n",
       "    .dataframe thead th {\n",
       "        text-align: right;\n",
       "    }\n",
       "</style>\n",
       "<table border=\"1\" class=\"dataframe\">\n",
       "  <thead>\n",
       "    <tr style=\"text-align: right;\">\n",
       "      <th></th>\n",
       "      <th>index</th>\n",
       "      <th>session_id</th>\n",
       "      <th>timestamp</th>\n",
       "      <th>user_id</th>\n",
       "      <th>step</th>\n",
       "      <th>action_type</th>\n",
       "      <th>reference</th>\n",
       "      <th>platform</th>\n",
       "      <th>city</th>\n",
       "      <th>device</th>\n",
       "      <th>current_filters</th>\n",
       "      <th>prices</th>\n",
       "      <th>number_of_impressions</th>\n",
       "      <th>impressions</th>\n",
       "      <th>position</th>\n",
       "    </tr>\n",
       "  </thead>\n",
       "  <tbody>\n",
       "    <tr>\n",
       "      <th>0</th>\n",
       "      <td>8312303</td>\n",
       "      <td>000066611146f</td>\n",
       "      <td>1541332330</td>\n",
       "      <td>XRIOQ0R1CHLT</td>\n",
       "      <td>3</td>\n",
       "      <td>clickout item</td>\n",
       "      <td>5479306</td>\n",
       "      <td>BE</td>\n",
       "      <td>Obaköy, Turkey</td>\n",
       "      <td>desktop</td>\n",
       "      <td>Hotel|Resort</td>\n",
       "      <td>96</td>\n",
       "      <td>25</td>\n",
       "      <td>5479306</td>\n",
       "      <td>1</td>\n",
       "    </tr>\n",
       "    <tr>\n",
       "      <th>1</th>\n",
       "      <td>8312303</td>\n",
       "      <td>000066611146f</td>\n",
       "      <td>1541332330</td>\n",
       "      <td>XRIOQ0R1CHLT</td>\n",
       "      <td>3</td>\n",
       "      <td>clickout item</td>\n",
       "      <td>5479306</td>\n",
       "      <td>BE</td>\n",
       "      <td>Obaköy, Turkey</td>\n",
       "      <td>desktop</td>\n",
       "      <td>Hotel|Resort</td>\n",
       "      <td>81</td>\n",
       "      <td>25</td>\n",
       "      <td>97126</td>\n",
       "      <td>2</td>\n",
       "    </tr>\n",
       "    <tr>\n",
       "      <th>2</th>\n",
       "      <td>8312303</td>\n",
       "      <td>000066611146f</td>\n",
       "      <td>1541332330</td>\n",
       "      <td>XRIOQ0R1CHLT</td>\n",
       "      <td>3</td>\n",
       "      <td>clickout item</td>\n",
       "      <td>5479306</td>\n",
       "      <td>BE</td>\n",
       "      <td>Obaköy, Turkey</td>\n",
       "      <td>desktop</td>\n",
       "      <td>Hotel|Resort</td>\n",
       "      <td>87</td>\n",
       "      <td>25</td>\n",
       "      <td>2195126</td>\n",
       "      <td>3</td>\n",
       "    </tr>\n",
       "  </tbody>\n",
       "</table>\n",
       "</div>"
      ],
      "text/plain": [
       "     index     session_id   timestamp       user_id  step    action_type  \\\n",
       "0  8312303  000066611146f  1541332330  XRIOQ0R1CHLT     3  clickout item   \n",
       "1  8312303  000066611146f  1541332330  XRIOQ0R1CHLT     3  clickout item   \n",
       "2  8312303  000066611146f  1541332330  XRIOQ0R1CHLT     3  clickout item   \n",
       "\n",
       "  reference platform            city   device current_filters  prices  \\\n",
       "0   5479306       BE  Obaköy, Turkey  desktop    Hotel|Resort      96   \n",
       "1   5479306       BE  Obaköy, Turkey  desktop    Hotel|Resort      81   \n",
       "2   5479306       BE  Obaköy, Turkey  desktop    Hotel|Resort      87   \n",
       "\n",
       "   number_of_impressions  impressions  position  \n",
       "0                     25      5479306         1  \n",
       "1                     25        97126         2  \n",
       "2                     25      2195126         3  "
      ]
     },
     "execution_count": 28,
     "metadata": {},
     "output_type": "execute_result"
    }
   ],
   "source": [
    "train['position'] = train.groupby(['user_id','timestamp','session_id','step']).cumcount()+1\n",
    "train[:3]"
   ]
  },
  {
   "cell_type": "code",
   "execution_count": 29,
   "metadata": {},
   "outputs": [],
   "source": [
    "# # DODANIE CITY I COUNTRY\n",
    "# city, country = (train['city']\n",
    "#                     .values[0]\n",
    "#                     .replace(\" \", \"\")\n",
    "#                     .split(','))\n",
    "# print(city)\n",
    "# print(country)\n",
    "\n",
    "# cities = []\n",
    "# countries = []\n",
    "# l = []\n",
    "# for index in range(len(train['city'].values)):\n",
    "#     l = (train['city']\n",
    "#                     .values[index]\n",
    "#                     .replace(\" \", \"\")\n",
    "#                     .split(','))\n",
    "#     cities.append(l[0])\n",
    "#     countries.append(l[1])\n",
    "# #     if len(l) > 2 :\n",
    "# #         print(l[0])\n",
    "# #         print(l[1])\n",
    "# #         print(l[2])\n",
    "# #         print(len(l))\n",
    "\n",
    "# train = train.drop(['city'], axis=1)\n",
    "# train['city'] = cities\n",
    "# train['country'] = countries\n",
    "# train[:3]"
   ]
  },
  {
   "cell_type": "code",
   "execution_count": null,
   "metadata": {},
   "outputs": [],
   "source": [
    "def mean_price(df):\n",
    "    return df['prices'].mean()\n",
    "df_mean_price = train.groupby(['session_id', 'timestamp']).apply(lambda df: df['prices'].mean()).to_frame(\"mean_price\")\n",
    "df_mean_price[:3]\n",
    "train = train.merge(df_mean_price,\n",
    "                     left_on=['session_id', 'timestamp'],\n",
    "                     right_on=['session_id', 'timestamp'],\n",
    "                     how='left')\n",
    "train['mean_price_difference'] = abs(train['prices'] - train['mean_price'])\n",
    "train[:3]"
   ]
  },
  {
   "cell_type": "code",
   "execution_count": null,
   "metadata": {
    "scrolled": true
   },
   "outputs": [],
   "source": [
    "train = train.merge(item_metadata,\n",
    "                   left_on='impressions',\n",
    "                   right_on='item_id',\n",
    "                   how='left')\n",
    "train[:3]"
   ]
  },
  {
   "cell_type": "code",
   "execution_count": null,
   "metadata": {},
   "outputs": [],
   "source": [
    "train.columns"
   ]
  },
  {
   "cell_type": "code",
   "execution_count": 10,
   "metadata": {},
   "outputs": [
    {
     "data": {
      "text/html": [
       "<div>\n",
       "<style scoped>\n",
       "    .dataframe tbody tr th:only-of-type {\n",
       "        vertical-align: middle;\n",
       "    }\n",
       "\n",
       "    .dataframe tbody tr th {\n",
       "        vertical-align: top;\n",
       "    }\n",
       "\n",
       "    .dataframe thead th {\n",
       "        text-align: right;\n",
       "    }\n",
       "</style>\n",
       "<table border=\"1\" class=\"dataframe\">\n",
       "  <thead>\n",
       "    <tr style=\"text-align: right;\">\n",
       "      <th></th>\n",
       "      <th>item_id</th>\n",
       "      <th>reference</th>\n",
       "      <th>n_clicks</th>\n",
       "      <th>views</th>\n",
       "      <th>clicks_views_ratio</th>\n",
       "      <th>position</th>\n",
       "      <th>Satisfactory Rating</th>\n",
       "      <th>Shower</th>\n",
       "      <th>Washing Machine</th>\n",
       "      <th>Fridge</th>\n",
       "      <th>3 Star</th>\n",
       "      <th>Air Conditioning</th>\n",
       "      <th>Good Rating</th>\n",
       "      <th>Car Park</th>\n",
       "      <th>mean_price</th>\n",
       "      <th>mean_price_difference</th>\n",
       "    </tr>\n",
       "  </thead>\n",
       "  <tbody>\n",
       "    <tr>\n",
       "      <th>0</th>\n",
       "      <td>5479306</td>\n",
       "      <td>5479306</td>\n",
       "      <td>2.0</td>\n",
       "      <td>38</td>\n",
       "      <td>0.052632</td>\n",
       "      <td>1</td>\n",
       "      <td>1.0</td>\n",
       "      <td>1.0</td>\n",
       "      <td>1.0</td>\n",
       "      <td>0.0</td>\n",
       "      <td>0.0</td>\n",
       "      <td>1.0</td>\n",
       "      <td>1.0</td>\n",
       "      <td>1.0</td>\n",
       "      <td>82.6</td>\n",
       "      <td>13.4</td>\n",
       "    </tr>\n",
       "    <tr>\n",
       "      <th>1</th>\n",
       "      <td>97126</td>\n",
       "      <td>5479306</td>\n",
       "      <td>23.0</td>\n",
       "      <td>304</td>\n",
       "      <td>0.075658</td>\n",
       "      <td>2</td>\n",
       "      <td>1.0</td>\n",
       "      <td>1.0</td>\n",
       "      <td>1.0</td>\n",
       "      <td>0.0</td>\n",
       "      <td>0.0</td>\n",
       "      <td>1.0</td>\n",
       "      <td>1.0</td>\n",
       "      <td>1.0</td>\n",
       "      <td>82.6</td>\n",
       "      <td>1.6</td>\n",
       "    </tr>\n",
       "    <tr>\n",
       "      <th>2</th>\n",
       "      <td>2195126</td>\n",
       "      <td>5479306</td>\n",
       "      <td>20.0</td>\n",
       "      <td>179</td>\n",
       "      <td>0.111732</td>\n",
       "      <td>3</td>\n",
       "      <td>1.0</td>\n",
       "      <td>1.0</td>\n",
       "      <td>1.0</td>\n",
       "      <td>0.0</td>\n",
       "      <td>0.0</td>\n",
       "      <td>1.0</td>\n",
       "      <td>1.0</td>\n",
       "      <td>1.0</td>\n",
       "      <td>82.6</td>\n",
       "      <td>4.4</td>\n",
       "    </tr>\n",
       "  </tbody>\n",
       "</table>\n",
       "</div>"
      ],
      "text/plain": [
       "   item_id  reference  n_clicks  views  clicks_views_ratio  position  \\\n",
       "0  5479306    5479306       2.0     38            0.052632         1   \n",
       "1    97126    5479306      23.0    304            0.075658         2   \n",
       "2  2195126    5479306      20.0    179            0.111732         3   \n",
       "\n",
       "   Satisfactory Rating  Shower  Washing Machine  Fridge  3 Star  \\\n",
       "0                  1.0     1.0              1.0     0.0     0.0   \n",
       "1                  1.0     1.0              1.0     0.0     0.0   \n",
       "2                  1.0     1.0              1.0     0.0     0.0   \n",
       "\n",
       "   Air Conditioning  Good Rating  Car Park  mean_price  mean_price_difference  \n",
       "0               1.0          1.0       1.0        82.6                   13.4  \n",
       "1               1.0          1.0       1.0        82.6                    1.6  \n",
       "2               1.0          1.0       1.0        82.6                    4.4  "
      ]
     },
     "execution_count": 10,
     "metadata": {},
     "output_type": "execute_result"
    }
   ],
   "source": [
    "train = train.rename({'index':'item_id'})\n",
    "train = train[[\"item_id\", \"reference\",'n_clicks','views','clicks_views_ratio','position','Satisfactory Rating', \n",
    "               'Shower','Washing Machine', 'Fridge','3 Star',\n",
    "                'Air Conditioning','Good Rating','Car Park',\n",
    "              'mean_price','mean_price_difference']]\n",
    "# train = train[[\"item_id\", \"reference\",'n_clicks','views','clicks_views_ratio','sum_of_properties','mean_price','mean_price_difference','position']]\n",
    "train['reference'] = train['reference'].astype(int)\n",
    "train[:3]"
   ]
  },
  {
   "cell_type": "code",
   "execution_count": 11,
   "metadata": {},
   "outputs": [
    {
     "data": {
      "text/html": [
       "<div>\n",
       "<style scoped>\n",
       "    .dataframe tbody tr th:only-of-type {\n",
       "        vertical-align: middle;\n",
       "    }\n",
       "\n",
       "    .dataframe tbody tr th {\n",
       "        vertical-align: top;\n",
       "    }\n",
       "\n",
       "    .dataframe thead th {\n",
       "        text-align: right;\n",
       "    }\n",
       "</style>\n",
       "<table border=\"1\" class=\"dataframe\">\n",
       "  <thead>\n",
       "    <tr style=\"text-align: right;\">\n",
       "      <th></th>\n",
       "      <th>item_id</th>\n",
       "      <th>reference</th>\n",
       "      <th>n_clicks</th>\n",
       "      <th>views</th>\n",
       "      <th>clicks_views_ratio</th>\n",
       "      <th>position</th>\n",
       "      <th>Satisfactory Rating</th>\n",
       "      <th>Shower</th>\n",
       "      <th>Washing Machine</th>\n",
       "      <th>Fridge</th>\n",
       "      <th>3 Star</th>\n",
       "      <th>Air Conditioning</th>\n",
       "      <th>Good Rating</th>\n",
       "      <th>Car Park</th>\n",
       "      <th>mean_price</th>\n",
       "      <th>mean_price_difference</th>\n",
       "      <th>clicked</th>\n",
       "    </tr>\n",
       "  </thead>\n",
       "  <tbody>\n",
       "    <tr>\n",
       "      <th>0</th>\n",
       "      <td>5479306</td>\n",
       "      <td>5479306</td>\n",
       "      <td>2.0</td>\n",
       "      <td>38</td>\n",
       "      <td>0.052632</td>\n",
       "      <td>1</td>\n",
       "      <td>1.0</td>\n",
       "      <td>1.0</td>\n",
       "      <td>1.0</td>\n",
       "      <td>0.0</td>\n",
       "      <td>0.0</td>\n",
       "      <td>1.0</td>\n",
       "      <td>1.0</td>\n",
       "      <td>1.0</td>\n",
       "      <td>82.6</td>\n",
       "      <td>13.4</td>\n",
       "      <td>1</td>\n",
       "    </tr>\n",
       "    <tr>\n",
       "      <th>1</th>\n",
       "      <td>97126</td>\n",
       "      <td>5479306</td>\n",
       "      <td>23.0</td>\n",
       "      <td>304</td>\n",
       "      <td>0.075658</td>\n",
       "      <td>2</td>\n",
       "      <td>1.0</td>\n",
       "      <td>1.0</td>\n",
       "      <td>1.0</td>\n",
       "      <td>0.0</td>\n",
       "      <td>0.0</td>\n",
       "      <td>1.0</td>\n",
       "      <td>1.0</td>\n",
       "      <td>1.0</td>\n",
       "      <td>82.6</td>\n",
       "      <td>1.6</td>\n",
       "      <td>0</td>\n",
       "    </tr>\n",
       "    <tr>\n",
       "      <th>2</th>\n",
       "      <td>2195126</td>\n",
       "      <td>5479306</td>\n",
       "      <td>20.0</td>\n",
       "      <td>179</td>\n",
       "      <td>0.111732</td>\n",
       "      <td>3</td>\n",
       "      <td>1.0</td>\n",
       "      <td>1.0</td>\n",
       "      <td>1.0</td>\n",
       "      <td>0.0</td>\n",
       "      <td>0.0</td>\n",
       "      <td>1.0</td>\n",
       "      <td>1.0</td>\n",
       "      <td>1.0</td>\n",
       "      <td>82.6</td>\n",
       "      <td>4.4</td>\n",
       "      <td>0</td>\n",
       "    </tr>\n",
       "  </tbody>\n",
       "</table>\n",
       "</div>"
      ],
      "text/plain": [
       "   item_id  reference  n_clicks  views  clicks_views_ratio  position  \\\n",
       "0  5479306    5479306       2.0     38            0.052632         1   \n",
       "1    97126    5479306      23.0    304            0.075658         2   \n",
       "2  2195126    5479306      20.0    179            0.111732         3   \n",
       "\n",
       "   Satisfactory Rating  Shower  Washing Machine  Fridge  3 Star  \\\n",
       "0                  1.0     1.0              1.0     0.0     0.0   \n",
       "1                  1.0     1.0              1.0     0.0     0.0   \n",
       "2                  1.0     1.0              1.0     0.0     0.0   \n",
       "\n",
       "   Air Conditioning  Good Rating  Car Park  mean_price  mean_price_difference  \\\n",
       "0               1.0          1.0       1.0        82.6                   13.4   \n",
       "1               1.0          1.0       1.0        82.6                    1.6   \n",
       "2               1.0          1.0       1.0        82.6                    4.4   \n",
       "\n",
       "   clicked  \n",
       "0        1  \n",
       "1        0  \n",
       "2        0  "
      ]
     },
     "execution_count": 11,
     "metadata": {},
     "output_type": "execute_result"
    }
   ],
   "source": [
    "train['clicked'] = np.where(train['item_id'] == train['reference'], 1, 0)\n",
    "train[:3]"
   ]
  },
  {
   "cell_type": "code",
   "execution_count": 12,
   "metadata": {},
   "outputs": [],
   "source": [
    "train.drop_duplicates('item_id', inplace=True)\n",
    "# collections.Counter(train['item_id'].values)"
   ]
  },
  {
   "cell_type": "code",
   "execution_count": 13,
   "metadata": {},
   "outputs": [],
   "source": [
    "# collections.Counter(train['clicked'].values)"
   ]
  },
  {
   "cell_type": "code",
   "execution_count": 14,
   "metadata": {},
   "outputs": [],
   "source": [
    "# import plotly.express as px\n",
    "# fig = px.scatter(train[:10000],x='n_clicks',y='views', color='clicked')\n",
    "# fig.show()"
   ]
  },
  {
   "cell_type": "code",
   "execution_count": 15,
   "metadata": {},
   "outputs": [
    {
     "data": {
      "text/html": [
       "<div>\n",
       "<style scoped>\n",
       "    .dataframe tbody tr th:only-of-type {\n",
       "        vertical-align: middle;\n",
       "    }\n",
       "\n",
       "    .dataframe tbody tr th {\n",
       "        vertical-align: top;\n",
       "    }\n",
       "\n",
       "    .dataframe thead th {\n",
       "        text-align: right;\n",
       "    }\n",
       "</style>\n",
       "<table border=\"1\" class=\"dataframe\">\n",
       "  <thead>\n",
       "    <tr style=\"text-align: right;\">\n",
       "      <th></th>\n",
       "      <th>item_id</th>\n",
       "      <th>n_clicks</th>\n",
       "      <th>views</th>\n",
       "      <th>clicks_views_ratio</th>\n",
       "      <th>position</th>\n",
       "      <th>Satisfactory Rating</th>\n",
       "      <th>Shower</th>\n",
       "      <th>Washing Machine</th>\n",
       "      <th>Fridge</th>\n",
       "      <th>3 Star</th>\n",
       "      <th>Air Conditioning</th>\n",
       "      <th>Good Rating</th>\n",
       "      <th>Car Park</th>\n",
       "      <th>mean_price_difference</th>\n",
       "      <th>clicked</th>\n",
       "    </tr>\n",
       "  </thead>\n",
       "  <tbody>\n",
       "    <tr>\n",
       "      <th>0</th>\n",
       "      <td>5479306</td>\n",
       "      <td>2.0</td>\n",
       "      <td>38</td>\n",
       "      <td>0.052632</td>\n",
       "      <td>1</td>\n",
       "      <td>1.0</td>\n",
       "      <td>1.0</td>\n",
       "      <td>1.0</td>\n",
       "      <td>0.0</td>\n",
       "      <td>0.0</td>\n",
       "      <td>1.0</td>\n",
       "      <td>1.0</td>\n",
       "      <td>1.0</td>\n",
       "      <td>13.4</td>\n",
       "      <td>1</td>\n",
       "    </tr>\n",
       "    <tr>\n",
       "      <th>1</th>\n",
       "      <td>97126</td>\n",
       "      <td>23.0</td>\n",
       "      <td>304</td>\n",
       "      <td>0.075658</td>\n",
       "      <td>2</td>\n",
       "      <td>1.0</td>\n",
       "      <td>1.0</td>\n",
       "      <td>1.0</td>\n",
       "      <td>0.0</td>\n",
       "      <td>0.0</td>\n",
       "      <td>1.0</td>\n",
       "      <td>1.0</td>\n",
       "      <td>1.0</td>\n",
       "      <td>1.6</td>\n",
       "      <td>0</td>\n",
       "    </tr>\n",
       "    <tr>\n",
       "      <th>2</th>\n",
       "      <td>2195126</td>\n",
       "      <td>20.0</td>\n",
       "      <td>179</td>\n",
       "      <td>0.111732</td>\n",
       "      <td>3</td>\n",
       "      <td>1.0</td>\n",
       "      <td>1.0</td>\n",
       "      <td>1.0</td>\n",
       "      <td>0.0</td>\n",
       "      <td>0.0</td>\n",
       "      <td>1.0</td>\n",
       "      <td>1.0</td>\n",
       "      <td>1.0</td>\n",
       "      <td>4.4</td>\n",
       "      <td>0</td>\n",
       "    </tr>\n",
       "  </tbody>\n",
       "</table>\n",
       "</div>"
      ],
      "text/plain": [
       "   item_id  n_clicks  views  clicks_views_ratio  position  \\\n",
       "0  5479306       2.0     38            0.052632         1   \n",
       "1    97126      23.0    304            0.075658         2   \n",
       "2  2195126      20.0    179            0.111732         3   \n",
       "\n",
       "   Satisfactory Rating  Shower  Washing Machine  Fridge  3 Star  \\\n",
       "0                  1.0     1.0              1.0     0.0     0.0   \n",
       "1                  1.0     1.0              1.0     0.0     0.0   \n",
       "2                  1.0     1.0              1.0     0.0     0.0   \n",
       "\n",
       "   Air Conditioning  Good Rating  Car Park  mean_price_difference  clicked  \n",
       "0               1.0          1.0       1.0                   13.4        1  \n",
       "1               1.0          1.0       1.0                    1.6        0  \n",
       "2               1.0          1.0       1.0                    4.4        0  "
      ]
     },
     "execution_count": 15,
     "metadata": {},
     "output_type": "execute_result"
    }
   ],
   "source": [
    "train = train.drop(columns=['reference','mean_price'])\n",
    "train[:3]"
   ]
  },
  {
   "cell_type": "code",
   "execution_count": 16,
   "metadata": {},
   "outputs": [
    {
     "name": "stderr",
     "output_type": "stream",
     "text": [
      "Using TensorFlow backend.\n"
     ]
    }
   ],
   "source": [
    "from sklearn.tree import DecisionTreeClassifier\n",
    "from sklearn.linear_model import LogisticRegression, Perceptron, SGDClassifier\n",
    "from sklearn.model_selection import train_test_split\n",
    "from imblearn.under_sampling import RandomUnderSampler\n",
    "from sklearn.metrics import confusion_matrix, classification_report, accuracy_score, balanced_accuracy_score\n",
    "from sklearn.preprocessing import StandardScaler, normalize\n",
    "from imblearn.under_sampling import RandomUnderSampler"
   ]
  },
  {
   "cell_type": "code",
   "execution_count": 17,
   "metadata": {},
   "outputs": [],
   "source": [
    "X_train, X_test, y_train, y_test = train_test_split(train[['item_id','clicks_views_ratio','position','mean_price_difference']], \n",
    "                                                    train['clicked'],\n",
    "                                                    test_size=0.2,\n",
    "                                                    random_state=0)"
   ]
  },
  {
   "cell_type": "code",
   "execution_count": 18,
   "metadata": {},
   "outputs": [
    {
     "data": {
      "text/html": [
       "<div>\n",
       "<style scoped>\n",
       "    .dataframe tbody tr th:only-of-type {\n",
       "        vertical-align: middle;\n",
       "    }\n",
       "\n",
       "    .dataframe tbody tr th {\n",
       "        vertical-align: top;\n",
       "    }\n",
       "\n",
       "    .dataframe thead th {\n",
       "        text-align: right;\n",
       "    }\n",
       "</style>\n",
       "<table border=\"1\" class=\"dataframe\">\n",
       "  <thead>\n",
       "    <tr style=\"text-align: right;\">\n",
       "      <th></th>\n",
       "      <th>item_id</th>\n",
       "      <th>clicks_views_ratio</th>\n",
       "      <th>position</th>\n",
       "      <th>mean_price_difference</th>\n",
       "    </tr>\n",
       "  </thead>\n",
       "  <tbody>\n",
       "    <tr>\n",
       "      <th>355211</th>\n",
       "      <td>2526268</td>\n",
       "      <td>0.0</td>\n",
       "      <td>11</td>\n",
       "      <td>27.066667</td>\n",
       "    </tr>\n",
       "    <tr>\n",
       "      <th>15057448</th>\n",
       "      <td>1726511</td>\n",
       "      <td>0.4</td>\n",
       "      <td>1</td>\n",
       "      <td>12.000000</td>\n",
       "    </tr>\n",
       "    <tr>\n",
       "      <th>2035079</th>\n",
       "      <td>3994652</td>\n",
       "      <td>0.0</td>\n",
       "      <td>10</td>\n",
       "      <td>2.000000</td>\n",
       "    </tr>\n",
       "  </tbody>\n",
       "</table>\n",
       "</div>"
      ],
      "text/plain": [
       "          item_id  clicks_views_ratio  position  mean_price_difference\n",
       "355211    2526268                 0.0        11              27.066667\n",
       "15057448  1726511                 0.4         1              12.000000\n",
       "2035079   3994652                 0.0        10               2.000000"
      ]
     },
     "execution_count": 18,
     "metadata": {},
     "output_type": "execute_result"
    }
   ],
   "source": [
    "X_train[:3]"
   ]
  },
  {
   "cell_type": "code",
   "execution_count": 19,
   "metadata": {},
   "outputs": [
    {
     "data": {
      "text/plain": [
       "array([[-0.67873831, -0.38061595, -0.31773478, -0.16819865],\n",
       "       [-0.90860011,  3.15107157, -1.71173117, -0.26627675],\n",
       "       [-0.25670339, -0.38061595, -0.45713442, -0.33137284]])"
      ]
     },
     "execution_count": 19,
     "metadata": {},
     "output_type": "execute_result"
    }
   ],
   "source": [
    "X_train_id_columns = X_train['item_id']\n",
    "X_train_rest_columns = X_train.iloc[:,1:]\n",
    "sc = StandardScaler()\n",
    "sc.fit(X_train)\n",
    "X_train = sc.transform(X_train)\n",
    "X_test = sc.transform(X_test)\n",
    "X_train[:3]"
   ]
  },
  {
   "cell_type": "code",
   "execution_count": 20,
   "metadata": {},
   "outputs": [],
   "source": [
    "from keras import backend as K\n",
    "\n",
    "def recall_m(y_true, y_pred):\n",
    "        true_positives = K.sum(K.round(K.clip(y_true * y_pred, 0, 1)))\n",
    "        possible_positives = K.sum(K.round(K.clip(y_true, 0, 1)))\n",
    "        recall = true_positives / (possible_positives + K.epsilon())\n",
    "        return recall\n",
    "\n",
    "def precision_m(y_true, y_pred):\n",
    "        true_positives = K.sum(K.round(K.clip(y_true * y_pred, 0, 1)))\n",
    "        predicted_positives = K.sum(K.round(K.clip(y_pred, 0, 1)))\n",
    "        precision = true_positives / (predicted_positives + K.epsilon())\n",
    "        return precision\n",
    "\n",
    "def f1_m(y_true, y_pred):\n",
    "    precision = precision_m(y_true, y_pred)\n",
    "    recall = recall_m(y_true, y_pred)\n",
    "    return 2*((precision*recall)/(precision+recall+K.epsilon()))"
   ]
  },
  {
   "cell_type": "code",
   "execution_count": 21,
   "metadata": {},
   "outputs": [],
   "source": [
    "from keras.models import Sequential\n",
    "from keras.layers import Dense, Activation"
   ]
  },
  {
   "cell_type": "code",
   "execution_count": 22,
   "metadata": {},
   "outputs": [
    {
     "name": "stdout",
     "output_type": "stream",
     "text": [
      "Epoch 1/30\n",
      "568232/568232 [==============================] - 13s 23us/step - loss: 0.0951 - accuracy: 0.9657 - f1_m: 0.3256 - precision_m: 0.4444 - recall_m: 0.28642s - los\n",
      "Epoch 2/30\n",
      "568232/568232 [==============================] - 12s 21us/step - loss: 0.0918 - accuracy: 0.9667 - f1_m: 0.3474 - precision_m: 0.4655 - recall_m: 0.3074\n",
      "Epoch 3/30\n",
      "568232/568232 [==============================] - 12s 21us/step - loss: 0.0921 - accuracy: 0.9669 - f1_m: 0.3533 - precision_m: 0.4737 - recall_m: 0.3136\n",
      "Epoch 4/30\n",
      "568232/568232 [==============================] - 12s 21us/step - loss: 0.0922 - accuracy: 0.9671 - f1_m: 0.3615 - precision_m: 0.4839 - recall_m: 0.3204\n",
      "Epoch 5/30\n",
      "568232/568232 [==============================] - 12s 22us/step - loss: 0.0922 - accuracy: 0.9669 - f1_m: 0.3664 - precision_m: 0.4860 - recall_m: 0.3285\n",
      "Epoch 6/30\n",
      "568232/568232 [==============================] - 13s 22us/step - loss: 0.0930 - accuracy: 0.9669 - f1_m: 0.3632 - precision_m: 0.4825 - recall_m: 0.3240\n",
      "Epoch 7/30\n",
      "568232/568232 [==============================] - 12s 22us/step - loss: 0.0938 - accuracy: 0.9669 - f1_m: 0.3602 - precision_m: 0.4768 - recall_m: 0.3229\n",
      "Epoch 8/30\n",
      "568232/568232 [==============================] - 13s 23us/step - loss: 0.0938 - accuracy: 0.9669 - f1_m: 0.3583 - precision_m: 0.4771 - recall_m: 0.3193\n",
      "Epoch 9/30\n",
      "568232/568232 [==============================] - 13s 23us/step - loss: 0.0946 - accuracy: 0.9671 - f1_m: 0.3759 - precision_m: 0.4945 - recall_m: 0.3378\n",
      "Epoch 10/30\n",
      "568232/568232 [==============================] - 12s 22us/step - loss: 0.0949 - accuracy: 0.9670 - f1_m: 0.3682 - precision_m: 0.4873 - recall_m: 0.3289\n",
      "Epoch 11/30\n",
      "568232/568232 [==============================] - 13s 22us/step - loss: 0.0944 - accuracy: 0.9671 - f1_m: 0.3732 - precision_m: 0.4937 - recall_m: 0.3336\n",
      "Epoch 12/30\n",
      "568232/568232 [==============================] - 13s 23us/step - loss: 0.0947 - accuracy: 0.9671 - f1_m: 0.3708 - precision_m: 0.4875 - recall_m: 0.3322\n",
      "Epoch 13/30\n",
      "568232/568232 [==============================] - 12s 21us/step - loss: 0.0938 - accuracy: 0.9670 - f1_m: 0.3694 - precision_m: 0.4871 - recall_m: 0.3313\n",
      "Epoch 14/30\n",
      "568232/568232 [==============================] - 12s 22us/step - loss: 0.0948 - accuracy: 0.9670 - f1_m: 0.3666 - precision_m: 0.4838 - recall_m: 0.3285\n",
      "Epoch 15/30\n",
      "568232/568232 [==============================] - 12s 22us/step - loss: 0.0944 - accuracy: 0.9671 - f1_m: 0.3695 - precision_m: 0.4869 - recall_m: 0.3312\n",
      "Epoch 16/30\n",
      "568232/568232 [==============================] - 12s 21us/step - loss: 0.0951 - accuracy: 0.9668 - f1_m: 0.3689 - precision_m: 0.4861 - recall_m: 0.3305\n",
      "Epoch 17/30\n",
      "568232/568232 [==============================] - 12s 21us/step - loss: 0.0951 - accuracy: 0.9671 - f1_m: 0.3691 - precision_m: 0.4869 - recall_m: 0.3301\n",
      "Epoch 18/30\n",
      "568232/568232 [==============================] - 13s 22us/step - loss: 0.0945 - accuracy: 0.9670 - f1_m: 0.3706 - precision_m: 0.4871 - recall_m: 0.3332\n",
      "Epoch 19/30\n",
      "568232/568232 [==============================] - 13s 23us/step - loss: 0.0951 - accuracy: 0.9671 - f1_m: 0.3698 - precision_m: 0.4876 - recall_m: 0.3310\n",
      "Epoch 20/30\n",
      "568232/568232 [==============================] - 13s 23us/step - loss: 0.0941 - accuracy: 0.9671 - f1_m: 0.3706 - precision_m: 0.4895 - recall_m: 0.3318\n",
      "Epoch 21/30\n",
      "460550/568232 [=======================>......] - ETA: 2s - loss: 0.0944 - accuracy: 0.9671 - f1_m: 0.3685 - precision_m: 0.4846 - recall_m: 0.3304"
     ]
    },
    {
     "ename": "KeyboardInterrupt",
     "evalue": "",
     "output_type": "error",
     "traceback": [
      "\u001b[1;31m---------------------------------------------------------------------------\u001b[0m",
      "\u001b[1;31mKeyboardInterrupt\u001b[0m                         Traceback (most recent call last)",
      "\u001b[1;32m<ipython-input-22-5af579e37c98>\u001b[0m in \u001b[0;36m<module>\u001b[1;34m\u001b[0m\n\u001b[0;32m      4\u001b[0m \u001b[0mmodel\u001b[0m\u001b[1;33m.\u001b[0m\u001b[0madd\u001b[0m\u001b[1;33m(\u001b[0m\u001b[0mDense\u001b[0m\u001b[1;33m(\u001b[0m\u001b[1;36m1\u001b[0m\u001b[1;33m,\u001b[0m \u001b[0mactivation\u001b[0m\u001b[1;33m=\u001b[0m\u001b[1;34m'sigmoid'\u001b[0m\u001b[1;33m)\u001b[0m\u001b[1;33m)\u001b[0m\u001b[1;33m\u001b[0m\u001b[1;33m\u001b[0m\u001b[0m\n\u001b[0;32m      5\u001b[0m \u001b[0mmodel\u001b[0m\u001b[1;33m.\u001b[0m\u001b[0mcompile\u001b[0m\u001b[1;33m(\u001b[0m\u001b[0moptimizer\u001b[0m\u001b[1;33m=\u001b[0m\u001b[1;34m'rmsprop'\u001b[0m\u001b[1;33m,\u001b[0m \u001b[0mloss\u001b[0m\u001b[1;33m=\u001b[0m\u001b[1;34m'binary_crossentropy'\u001b[0m\u001b[1;33m,\u001b[0m \u001b[0mmetrics\u001b[0m\u001b[1;33m=\u001b[0m\u001b[1;33m[\u001b[0m\u001b[1;34m'accuracy'\u001b[0m\u001b[1;33m,\u001b[0m\u001b[0mf1_m\u001b[0m\u001b[1;33m,\u001b[0m\u001b[0mprecision_m\u001b[0m\u001b[1;33m,\u001b[0m \u001b[0mrecall_m\u001b[0m\u001b[1;33m]\u001b[0m\u001b[1;33m)\u001b[0m\u001b[1;33m\u001b[0m\u001b[1;33m\u001b[0m\u001b[0m\n\u001b[1;32m----> 6\u001b[1;33m \u001b[0mhistory\u001b[0m \u001b[1;33m=\u001b[0m \u001b[0mmodel\u001b[0m\u001b[1;33m.\u001b[0m\u001b[0mfit\u001b[0m\u001b[1;33m(\u001b[0m\u001b[0mX_train\u001b[0m\u001b[1;33m,\u001b[0m \u001b[0my_train\u001b[0m\u001b[1;33m,\u001b[0m \u001b[0mepochs\u001b[0m\u001b[1;33m=\u001b[0m\u001b[1;36m30\u001b[0m\u001b[1;33m,\u001b[0m \u001b[0mbatch_size\u001b[0m\u001b[1;33m=\u001b[0m\u001b[1;36m50\u001b[0m\u001b[1;33m)\u001b[0m\u001b[1;33m\u001b[0m\u001b[1;33m\u001b[0m\u001b[0m\n\u001b[0m",
      "\u001b[1;32mD:\\Instalowane\\Programy\\Anaconda3\\lib\\site-packages\\keras\\engine\\training.py\u001b[0m in \u001b[0;36mfit\u001b[1;34m(self, x, y, batch_size, epochs, verbose, callbacks, validation_split, validation_data, shuffle, class_weight, sample_weight, initial_epoch, steps_per_epoch, validation_steps, validation_freq, max_queue_size, workers, use_multiprocessing, **kwargs)\u001b[0m\n\u001b[0;32m   1237\u001b[0m                                         \u001b[0msteps_per_epoch\u001b[0m\u001b[1;33m=\u001b[0m\u001b[0msteps_per_epoch\u001b[0m\u001b[1;33m,\u001b[0m\u001b[1;33m\u001b[0m\u001b[1;33m\u001b[0m\u001b[0m\n\u001b[0;32m   1238\u001b[0m                                         \u001b[0mvalidation_steps\u001b[0m\u001b[1;33m=\u001b[0m\u001b[0mvalidation_steps\u001b[0m\u001b[1;33m,\u001b[0m\u001b[1;33m\u001b[0m\u001b[1;33m\u001b[0m\u001b[0m\n\u001b[1;32m-> 1239\u001b[1;33m                                         validation_freq=validation_freq)\n\u001b[0m\u001b[0;32m   1240\u001b[0m \u001b[1;33m\u001b[0m\u001b[0m\n\u001b[0;32m   1241\u001b[0m     def evaluate(self,\n",
      "\u001b[1;32mD:\\Instalowane\\Programy\\Anaconda3\\lib\\site-packages\\keras\\engine\\training_arrays.py\u001b[0m in \u001b[0;36mfit_loop\u001b[1;34m(model, fit_function, fit_inputs, out_labels, batch_size, epochs, verbose, callbacks, val_function, val_inputs, shuffle, initial_epoch, steps_per_epoch, validation_steps, validation_freq)\u001b[0m\n\u001b[0;32m    194\u001b[0m                     \u001b[0mins_batch\u001b[0m\u001b[1;33m[\u001b[0m\u001b[0mi\u001b[0m\u001b[1;33m]\u001b[0m \u001b[1;33m=\u001b[0m \u001b[0mins_batch\u001b[0m\u001b[1;33m[\u001b[0m\u001b[0mi\u001b[0m\u001b[1;33m]\u001b[0m\u001b[1;33m.\u001b[0m\u001b[0mtoarray\u001b[0m\u001b[1;33m(\u001b[0m\u001b[1;33m)\u001b[0m\u001b[1;33m\u001b[0m\u001b[1;33m\u001b[0m\u001b[0m\n\u001b[0;32m    195\u001b[0m \u001b[1;33m\u001b[0m\u001b[0m\n\u001b[1;32m--> 196\u001b[1;33m                 \u001b[0mouts\u001b[0m \u001b[1;33m=\u001b[0m \u001b[0mfit_function\u001b[0m\u001b[1;33m(\u001b[0m\u001b[0mins_batch\u001b[0m\u001b[1;33m)\u001b[0m\u001b[1;33m\u001b[0m\u001b[1;33m\u001b[0m\u001b[0m\n\u001b[0m\u001b[0;32m    197\u001b[0m                 \u001b[0mouts\u001b[0m \u001b[1;33m=\u001b[0m \u001b[0mto_list\u001b[0m\u001b[1;33m(\u001b[0m\u001b[0mouts\u001b[0m\u001b[1;33m)\u001b[0m\u001b[1;33m\u001b[0m\u001b[1;33m\u001b[0m\u001b[0m\n\u001b[0;32m    198\u001b[0m                 \u001b[1;32mfor\u001b[0m \u001b[0ml\u001b[0m\u001b[1;33m,\u001b[0m \u001b[0mo\u001b[0m \u001b[1;32min\u001b[0m \u001b[0mzip\u001b[0m\u001b[1;33m(\u001b[0m\u001b[0mout_labels\u001b[0m\u001b[1;33m,\u001b[0m \u001b[0mouts\u001b[0m\u001b[1;33m)\u001b[0m\u001b[1;33m:\u001b[0m\u001b[1;33m\u001b[0m\u001b[1;33m\u001b[0m\u001b[0m\n",
      "\u001b[1;32mD:\\Instalowane\\Programy\\Anaconda3\\lib\\site-packages\\tensorflow_core\\python\\keras\\backend.py\u001b[0m in \u001b[0;36m__call__\u001b[1;34m(self, inputs)\u001b[0m\n\u001b[0;32m   3738\u001b[0m         \u001b[0mvalue\u001b[0m \u001b[1;33m=\u001b[0m \u001b[0mmath_ops\u001b[0m\u001b[1;33m.\u001b[0m\u001b[0mcast\u001b[0m\u001b[1;33m(\u001b[0m\u001b[0mvalue\u001b[0m\u001b[1;33m,\u001b[0m \u001b[0mtensor\u001b[0m\u001b[1;33m.\u001b[0m\u001b[0mdtype\u001b[0m\u001b[1;33m)\u001b[0m\u001b[1;33m\u001b[0m\u001b[1;33m\u001b[0m\u001b[0m\n\u001b[0;32m   3739\u001b[0m       \u001b[0mconverted_inputs\u001b[0m\u001b[1;33m.\u001b[0m\u001b[0mappend\u001b[0m\u001b[1;33m(\u001b[0m\u001b[0mvalue\u001b[0m\u001b[1;33m)\u001b[0m\u001b[1;33m\u001b[0m\u001b[1;33m\u001b[0m\u001b[0m\n\u001b[1;32m-> 3740\u001b[1;33m     \u001b[0moutputs\u001b[0m \u001b[1;33m=\u001b[0m \u001b[0mself\u001b[0m\u001b[1;33m.\u001b[0m\u001b[0m_graph_fn\u001b[0m\u001b[1;33m(\u001b[0m\u001b[1;33m*\u001b[0m\u001b[0mconverted_inputs\u001b[0m\u001b[1;33m)\u001b[0m\u001b[1;33m\u001b[0m\u001b[1;33m\u001b[0m\u001b[0m\n\u001b[0m\u001b[0;32m   3741\u001b[0m \u001b[1;33m\u001b[0m\u001b[0m\n\u001b[0;32m   3742\u001b[0m     \u001b[1;31m# EagerTensor.numpy() will often make a copy to ensure memory safety.\u001b[0m\u001b[1;33m\u001b[0m\u001b[1;33m\u001b[0m\u001b[1;33m\u001b[0m\u001b[0m\n",
      "\u001b[1;32mD:\\Instalowane\\Programy\\Anaconda3\\lib\\site-packages\\tensorflow_core\\python\\eager\\function.py\u001b[0m in \u001b[0;36m__call__\u001b[1;34m(self, *args, **kwargs)\u001b[0m\n\u001b[0;32m   1079\u001b[0m       \u001b[0mTypeError\u001b[0m\u001b[1;33m:\u001b[0m \u001b[0mFor\u001b[0m \u001b[0minvalid\u001b[0m \u001b[0mpositional\u001b[0m\u001b[1;33m/\u001b[0m\u001b[0mkeyword\u001b[0m \u001b[0margument\u001b[0m \u001b[0mcombinations\u001b[0m\u001b[1;33m.\u001b[0m\u001b[1;33m\u001b[0m\u001b[1;33m\u001b[0m\u001b[0m\n\u001b[0;32m   1080\u001b[0m     \"\"\"\n\u001b[1;32m-> 1081\u001b[1;33m     \u001b[1;32mreturn\u001b[0m \u001b[0mself\u001b[0m\u001b[1;33m.\u001b[0m\u001b[0m_call_impl\u001b[0m\u001b[1;33m(\u001b[0m\u001b[0margs\u001b[0m\u001b[1;33m,\u001b[0m \u001b[0mkwargs\u001b[0m\u001b[1;33m)\u001b[0m\u001b[1;33m\u001b[0m\u001b[1;33m\u001b[0m\u001b[0m\n\u001b[0m\u001b[0;32m   1082\u001b[0m \u001b[1;33m\u001b[0m\u001b[0m\n\u001b[0;32m   1083\u001b[0m   \u001b[1;32mdef\u001b[0m \u001b[0m_call_impl\u001b[0m\u001b[1;33m(\u001b[0m\u001b[0mself\u001b[0m\u001b[1;33m,\u001b[0m \u001b[0margs\u001b[0m\u001b[1;33m,\u001b[0m \u001b[0mkwargs\u001b[0m\u001b[1;33m,\u001b[0m \u001b[0mcancellation_manager\u001b[0m\u001b[1;33m=\u001b[0m\u001b[1;32mNone\u001b[0m\u001b[1;33m)\u001b[0m\u001b[1;33m:\u001b[0m\u001b[1;33m\u001b[0m\u001b[1;33m\u001b[0m\u001b[0m\n",
      "\u001b[1;32mD:\\Instalowane\\Programy\\Anaconda3\\lib\\site-packages\\tensorflow_core\\python\\eager\\function.py\u001b[0m in \u001b[0;36m_call_impl\u001b[1;34m(self, args, kwargs, cancellation_manager)\u001b[0m\n\u001b[0;32m   1119\u001b[0m       raise TypeError(\"Keyword arguments {} unknown. Expected {}.\".format(\n\u001b[0;32m   1120\u001b[0m           list(kwargs.keys()), list(self._arg_keywords)))\n\u001b[1;32m-> 1121\u001b[1;33m     \u001b[1;32mreturn\u001b[0m \u001b[0mself\u001b[0m\u001b[1;33m.\u001b[0m\u001b[0m_call_flat\u001b[0m\u001b[1;33m(\u001b[0m\u001b[0margs\u001b[0m\u001b[1;33m,\u001b[0m \u001b[0mself\u001b[0m\u001b[1;33m.\u001b[0m\u001b[0mcaptured_inputs\u001b[0m\u001b[1;33m,\u001b[0m \u001b[0mcancellation_manager\u001b[0m\u001b[1;33m)\u001b[0m\u001b[1;33m\u001b[0m\u001b[1;33m\u001b[0m\u001b[0m\n\u001b[0m\u001b[0;32m   1122\u001b[0m \u001b[1;33m\u001b[0m\u001b[0m\n\u001b[0;32m   1123\u001b[0m   \u001b[1;32mdef\u001b[0m \u001b[0m_filtered_call\u001b[0m\u001b[1;33m(\u001b[0m\u001b[0mself\u001b[0m\u001b[1;33m,\u001b[0m \u001b[0margs\u001b[0m\u001b[1;33m,\u001b[0m \u001b[0mkwargs\u001b[0m\u001b[1;33m)\u001b[0m\u001b[1;33m:\u001b[0m\u001b[1;33m\u001b[0m\u001b[1;33m\u001b[0m\u001b[0m\n",
      "\u001b[1;32mD:\\Instalowane\\Programy\\Anaconda3\\lib\\site-packages\\tensorflow_core\\python\\eager\\function.py\u001b[0m in \u001b[0;36m_call_flat\u001b[1;34m(self, args, captured_inputs, cancellation_manager)\u001b[0m\n\u001b[0;32m   1222\u001b[0m     \u001b[1;32mif\u001b[0m \u001b[0mexecuting_eagerly\u001b[0m\u001b[1;33m:\u001b[0m\u001b[1;33m\u001b[0m\u001b[1;33m\u001b[0m\u001b[0m\n\u001b[0;32m   1223\u001b[0m       flat_outputs = forward_function.call(\n\u001b[1;32m-> 1224\u001b[1;33m           ctx, args, cancellation_manager=cancellation_manager)\n\u001b[0m\u001b[0;32m   1225\u001b[0m     \u001b[1;32melse\u001b[0m\u001b[1;33m:\u001b[0m\u001b[1;33m\u001b[0m\u001b[1;33m\u001b[0m\u001b[0m\n\u001b[0;32m   1226\u001b[0m       \u001b[0mgradient_name\u001b[0m \u001b[1;33m=\u001b[0m \u001b[0mself\u001b[0m\u001b[1;33m.\u001b[0m\u001b[0m_delayed_rewrite_functions\u001b[0m\u001b[1;33m.\u001b[0m\u001b[0mregister\u001b[0m\u001b[1;33m(\u001b[0m\u001b[1;33m)\u001b[0m\u001b[1;33m\u001b[0m\u001b[1;33m\u001b[0m\u001b[0m\n",
      "\u001b[1;32mD:\\Instalowane\\Programy\\Anaconda3\\lib\\site-packages\\tensorflow_core\\python\\eager\\function.py\u001b[0m in \u001b[0;36mcall\u001b[1;34m(self, ctx, args, cancellation_manager)\u001b[0m\n\u001b[0;32m    509\u001b[0m               \u001b[0minputs\u001b[0m\u001b[1;33m=\u001b[0m\u001b[0margs\u001b[0m\u001b[1;33m,\u001b[0m\u001b[1;33m\u001b[0m\u001b[1;33m\u001b[0m\u001b[0m\n\u001b[0;32m    510\u001b[0m               \u001b[0mattrs\u001b[0m\u001b[1;33m=\u001b[0m\u001b[1;33m(\u001b[0m\u001b[1;34m\"executor_type\"\u001b[0m\u001b[1;33m,\u001b[0m \u001b[0mexecutor_type\u001b[0m\u001b[1;33m,\u001b[0m \u001b[1;34m\"config_proto\"\u001b[0m\u001b[1;33m,\u001b[0m \u001b[0mconfig\u001b[0m\u001b[1;33m)\u001b[0m\u001b[1;33m,\u001b[0m\u001b[1;33m\u001b[0m\u001b[1;33m\u001b[0m\u001b[0m\n\u001b[1;32m--> 511\u001b[1;33m               ctx=ctx)\n\u001b[0m\u001b[0;32m    512\u001b[0m         \u001b[1;32melse\u001b[0m\u001b[1;33m:\u001b[0m\u001b[1;33m\u001b[0m\u001b[1;33m\u001b[0m\u001b[0m\n\u001b[0;32m    513\u001b[0m           outputs = execute.execute_with_cancellation(\n",
      "\u001b[1;32mD:\\Instalowane\\Programy\\Anaconda3\\lib\\site-packages\\tensorflow_core\\python\\eager\\execute.py\u001b[0m in \u001b[0;36mquick_execute\u001b[1;34m(op_name, num_outputs, inputs, attrs, ctx, name)\u001b[0m\n\u001b[0;32m     59\u001b[0m     tensors = pywrap_tensorflow.TFE_Py_Execute(ctx._handle, device_name,\n\u001b[0;32m     60\u001b[0m                                                \u001b[0mop_name\u001b[0m\u001b[1;33m,\u001b[0m \u001b[0minputs\u001b[0m\u001b[1;33m,\u001b[0m \u001b[0mattrs\u001b[0m\u001b[1;33m,\u001b[0m\u001b[1;33m\u001b[0m\u001b[1;33m\u001b[0m\u001b[0m\n\u001b[1;32m---> 61\u001b[1;33m                                                num_outputs)\n\u001b[0m\u001b[0;32m     62\u001b[0m   \u001b[1;32mexcept\u001b[0m \u001b[0mcore\u001b[0m\u001b[1;33m.\u001b[0m\u001b[0m_NotOkStatusException\u001b[0m \u001b[1;32mas\u001b[0m \u001b[0me\u001b[0m\u001b[1;33m:\u001b[0m\u001b[1;33m\u001b[0m\u001b[1;33m\u001b[0m\u001b[0m\n\u001b[0;32m     63\u001b[0m     \u001b[1;32mif\u001b[0m \u001b[0mname\u001b[0m \u001b[1;32mis\u001b[0m \u001b[1;32mnot\u001b[0m \u001b[1;32mNone\u001b[0m\u001b[1;33m:\u001b[0m\u001b[1;33m\u001b[0m\u001b[1;33m\u001b[0m\u001b[0m\n",
      "\u001b[1;31mKeyboardInterrupt\u001b[0m: "
     ]
    }
   ],
   "source": [
    "model = Sequential()\n",
    "model.add(Dense(32, activation='relu', input_dim=4))\n",
    "model.add(Dense(70, activation='relu'))\n",
    "model.add(Dense(1, activation='sigmoid'))\n",
    "model.compile(optimizer='rmsprop', loss='binary_crossentropy', metrics=['accuracy',f1_m,precision_m, recall_m])\n",
    "history = model.fit(X_train, y_train, epochs=30, batch_size=50)"
   ]
  },
  {
   "cell_type": "code",
   "execution_count": null,
   "metadata": {},
   "outputs": [],
   "source": [
    "loss, accuracy, f1_score, precision, recall = model.evaluate(X_test, y_test, verbose=0)\n"
   ]
  },
  {
   "cell_type": "markdown",
   "metadata": {},
   "source": [
    "# NAUKA"
   ]
  },
  {
   "cell_type": "code",
   "execution_count": null,
   "metadata": {},
   "outputs": [],
   "source": [
    "from sklearn.tree import DecisionTreeClassifier\n",
    "from sklearn.linear_model import LogisticRegression, Perceptron, SGDClassifier\n",
    "from sklearn.model_selection import train_test_split\n",
    "from imblearn.under_sampling import RandomUnderSampler\n",
    "from sklearn.metrics import confusion_matrix, classification_report, accuracy_score, balanced_accuracy_score\n",
    "from sklearn.preprocessing import StandardScaler, normalize\n",
    "from imblearn.under_sampling import RandomUnderSampler"
   ]
  },
  {
   "cell_type": "code",
   "execution_count": null,
   "metadata": {},
   "outputs": [],
   "source": [
    "nans = lambda df: df[df.isnull().any(axis=1)]\n",
    "print(len(train))\n",
    "train = train.dropna()\n",
    "print(len(train))"
   ]
  },
  {
   "cell_type": "code",
   "execution_count": null,
   "metadata": {},
   "outputs": [],
   "source": [
    "# 'n_clicks','views','clicks_views_ratio', 'mean_price','mean_price_difference','position'\n",
    "X_train, X_test, y_train, y_test = train_test_split(train.iloc[:,0:-1], \n",
    "                                                    train['clicked'],\n",
    "                                                    test_size=0.2,\n",
    "                                                    random_state=0)\n",
    "# rus = RandomUnderSampler(random_state=0)\n",
    "# X_train, y_train = rus.fit_resample(X_train, y_train)"
   ]
  },
  {
   "cell_type": "code",
   "execution_count": null,
   "metadata": {},
   "outputs": [],
   "source": [
    "# sc = StandardScaler()\n",
    "# sc.fit(X_train)\n",
    "# X_train = sc.transform(X_train)\n",
    "# # X_train = normalize(X_train, norm='l2')\n",
    "# X_test = sc.transform(X_test)\n",
    "# # X_test = normalize(X_test, norm='l2')"
   ]
  },
  {
   "cell_type": "code",
   "execution_count": null,
   "metadata": {},
   "outputs": [],
   "source": [
    "# logreg = DecisionTreeClassifier(class_weight={0.0:0.8, 1.0:0.2})\n",
    "logreg = LogisticRegression(n_jobs=-1, class_weight={0.0:0.1, 1.0:0.9}) #class_weight={0.0:0.2, 1.0:0.8}\n",
    "logreg.fit(X_train, y_train)\n",
    "y_pred = logreg.predict(X_test)\n",
    "# y_pred_prob = logreg.predict_proba(X_test)"
   ]
  },
  {
   "cell_type": "code",
   "execution_count": null,
   "metadata": {},
   "outputs": [],
   "source": [
    "print(collections.Counter(y_test))\n",
    "print(collections.Counter(y_pred))\n",
    "\n",
    "print('balanced_accuracy_score: {0}'.format(balanced_accuracy_score(y_test, y_pred)))\n",
    "print('accuracy_score: {0}'.format(accuracy_score(y_test, y_pred)))\n",
    "print('Nieprawidłowo sklasyfikowane próbki: %d' % (y_test != y_pred).sum())\n",
    "print('classification_report :\\n', classification_report(y_test, y_pred))\n",
    "confmat = confusion_matrix(y_true=y_test, y_pred=y_pred)\n",
    "print(confmat)"
   ]
  },
  {
   "cell_type": "markdown",
   "metadata": {},
   "source": [
    "# ZBIÓR TESTOWY"
   ]
  },
  {
   "cell_type": "code",
   "execution_count": null,
   "metadata": {},
   "outputs": [],
   "source": [
    "test = pd.read_csv('D:\\\\Dokumenty\\\\Systemy_rekomendacyjne\\\\data\\\\test.csv',\n",
    "                       sep=',',\n",
    "#                     skiprows=range(1, 11000000)\n",
    "#                    nrows=10000\n",
    "                   )\n",
    "# test = test[test[\"action_type\"] == \"clickout item\" & test['reference'].isnull()]\n",
    "mask = test[\"reference\"].isnull() & (test[\"action_type\"] == \"clickout item\")\n",
    "test = test[mask]\n",
    "# print(test.shape)\n",
    "test[:3]"
   ]
  },
  {
   "cell_type": "code",
   "execution_count": null,
   "metadata": {},
   "outputs": [],
   "source": [
    "test = explode_impressions_and_prices(test)\n",
    "test[:3]"
   ]
  },
  {
   "cell_type": "code",
   "execution_count": null,
   "metadata": {},
   "outputs": [],
   "source": [
    "test['position'] = test.groupby(['user_id','timestamp','session_id','step']).cumcount()+1\n",
    "test[:3]"
   ]
  },
  {
   "cell_type": "code",
   "execution_count": null,
   "metadata": {},
   "outputs": [],
   "source": [
    "index_df = test[[\"user_id\",\"session_id\",\"timestamp\",\"step\",\"impressions\"]]\n",
    "index_df[:10]"
   ]
  },
  {
   "cell_type": "code",
   "execution_count": null,
   "metadata": {},
   "outputs": [],
   "source": [
    "test = test.merge(item_metadata,\n",
    "                   left_on='impressions',\n",
    "                   right_on='item_id',\n",
    "                   how='left')\n",
    "test[:3]"
   ]
  },
  {
   "cell_type": "code",
   "execution_count": null,
   "metadata": {},
   "outputs": [],
   "source": [
    "test.columns"
   ]
  },
  {
   "cell_type": "code",
   "execution_count": null,
   "metadata": {},
   "outputs": [],
   "source": [
    "train.columns"
   ]
  },
  {
   "cell_type": "code",
   "execution_count": null,
   "metadata": {},
   "outputs": [],
   "source": [
    "test = test.rename({'index':'item_id'})\n",
    "test = test[[\"item_id\", \"reference\",'n_clicks','views','clicks_views_ratio','position','Satisfactory Rating', \n",
    "               'Shower','Washing Machine', 'Fridge','3 Star',\n",
    "                'Air Conditioning','Good Rating','Car Park']]\n",
    "test = test.drop(columns=['reference'], axis=1)\n",
    "test = test.dropna()\n",
    "test[:3]"
   ]
  },
  {
   "cell_type": "code",
   "execution_count": null,
   "metadata": {},
   "outputs": [],
   "source": [
    "X_test = test\n",
    "# X_test = sc.transform(X_test)"
   ]
  },
  {
   "cell_type": "code",
   "execution_count": null,
   "metadata": {},
   "outputs": [],
   "source": [
    "y_pred = logreg.predict_proba(X_test)"
   ]
  },
  {
   "cell_type": "code",
   "execution_count": null,
   "metadata": {},
   "outputs": [],
   "source": [
    "y_pred"
   ]
  },
  {
   "cell_type": "code",
   "execution_count": null,
   "metadata": {},
   "outputs": [],
   "source": [
    "result = pd.concat([index_df, pd.DataFrame(y_pred)], axis=1, sort=False)\n",
    "# result = result.drop([0], axis=1)\n",
    "result[:10]"
   ]
  },
  {
   "cell_type": "code",
   "execution_count": null,
   "metadata": {},
   "outputs": [],
   "source": [
    "result = result.assign(impressions=lambda x: x[\"impressions\"].apply(str))\n",
    "result = result.sort_values([\"user_id\", \"session_id\", \"timestamp\", \"step\", 1],\n",
    "                     ascending=[True, True, True, True, False])\n",
    "result[:10]"
   ]
  },
  {
   "cell_type": "code",
   "execution_count": null,
   "metadata": {},
   "outputs": [],
   "source": [
    "def group_concat(df, gr_cols, col_concat):\n",
    "    \"\"\"Concatenate multiple rows into one.\"\"\"\n",
    "\n",
    "    df_out = (\n",
    "        df\n",
    "        .groupby(gr_cols)[col_concat]\n",
    "        .apply(lambda x: ' '.join(x))\n",
    "        .to_frame()\n",
    "        .reset_index()\n",
    "    )\n",
    "\n",
    "    return df_out"
   ]
  },
  {
   "cell_type": "code",
   "execution_count": null,
   "metadata": {},
   "outputs": [],
   "source": [
    "result = group_concat(result, [\"user_id\",\"session_id\",\"timestamp\",\"step\"], \"impressions\")\n",
    "result = result.rename(columns={\"impressions\":\"item_recommendations\"})\n",
    "result[:10]"
   ]
  },
  {
   "cell_type": "code",
   "execution_count": null,
   "metadata": {},
   "outputs": [],
   "source": [
    "result.to_csv(\"D:\\\\Dokumenty\\\\Systemy_rekomendacyjne\\\\additional_resources\\\\2019-master\\\\data\\\\submission_ML.csv\", index=False,)"
   ]
  },
  {
   "cell_type": "code",
   "execution_count": null,
   "metadata": {},
   "outputs": [],
   "source": []
  },
  {
   "cell_type": "code",
   "execution_count": null,
   "metadata": {},
   "outputs": [],
   "source": []
  },
  {
   "cell_type": "code",
   "execution_count": null,
   "metadata": {},
   "outputs": [],
   "source": []
  },
  {
   "cell_type": "code",
   "execution_count": null,
   "metadata": {},
   "outputs": [],
   "source": []
  },
  {
   "cell_type": "code",
   "execution_count": null,
   "metadata": {},
   "outputs": [],
   "source": []
  },
  {
   "cell_type": "code",
   "execution_count": null,
   "metadata": {},
   "outputs": [],
   "source": []
  },
  {
   "cell_type": "code",
   "execution_count": null,
   "metadata": {},
   "outputs": [],
   "source": []
  }
 ],
 "metadata": {
  "kernelspec": {
   "display_name": "Python 3",
   "language": "python",
   "name": "python3"
  },
  "language_info": {
   "codemirror_mode": {
    "name": "ipython",
    "version": 3
   },
   "file_extension": ".py",
   "mimetype": "text/x-python",
   "name": "python",
   "nbconvert_exporter": "python",
   "pygments_lexer": "ipython3",
   "version": "3.7.3"
  }
 },
 "nbformat": 4,
 "nbformat_minor": 2
}
