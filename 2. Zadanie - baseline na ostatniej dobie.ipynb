{
 "cells": [
  {
   "cell_type": "code",
   "execution_count": 1,
   "metadata": {},
   "outputs": [],
   "source": [
    "import pandas as pd"
   ]
  },
  {
   "cell_type": "markdown",
   "metadata": {},
   "source": [
    "# Dlaczego MMR = 0.5 licząc kliknięcia tylko z ostatniej doby zbioru treningowego?"
   ]
  },
  {
   "cell_type": "code",
   "execution_count": 3,
   "metadata": {},
   "outputs": [
    {
     "name": "stdout",
     "output_type": "stream",
     "text": [
      "(12784339, 13)\n"
     ]
    },
    {
     "data": {
      "text/html": [
       "<div>\n",
       "<style scoped>\n",
       "    .dataframe tbody tr th:only-of-type {\n",
       "        vertical-align: middle;\n",
       "    }\n",
       "\n",
       "    .dataframe tbody tr th {\n",
       "        vertical-align: top;\n",
       "    }\n",
       "\n",
       "    .dataframe thead th {\n",
       "        text-align: right;\n",
       "    }\n",
       "</style>\n",
       "<table border=\"1\" class=\"dataframe\">\n",
       "  <thead>\n",
       "    <tr style=\"text-align: right;\">\n",
       "      <th></th>\n",
       "      <th>index</th>\n",
       "      <th>session_id</th>\n",
       "      <th>timestamp</th>\n",
       "      <th>user_id</th>\n",
       "      <th>step</th>\n",
       "      <th>action_type</th>\n",
       "      <th>reference</th>\n",
       "      <th>platform</th>\n",
       "      <th>city</th>\n",
       "      <th>device</th>\n",
       "      <th>current_filters</th>\n",
       "      <th>impressions</th>\n",
       "      <th>prices</th>\n",
       "    </tr>\n",
       "  </thead>\n",
       "  <tbody>\n",
       "    <tr>\n",
       "      <th>0</th>\n",
       "      <td>0</td>\n",
       "      <td>b6b4a3c02db0c</td>\n",
       "      <td>1541030408</td>\n",
       "      <td>4JK19KX9RU36</td>\n",
       "      <td>1</td>\n",
       "      <td>search for destination</td>\n",
       "      <td>Londrina, Brazil</td>\n",
       "      <td>BR</td>\n",
       "      <td>Londrina, Brazil</td>\n",
       "      <td>desktop</td>\n",
       "      <td>NaN</td>\n",
       "      <td>NaN</td>\n",
       "      <td>NaN</td>\n",
       "    </tr>\n",
       "    <tr>\n",
       "      <th>1</th>\n",
       "      <td>1</td>\n",
       "      <td>b6b4a3c02db0c</td>\n",
       "      <td>1541030410</td>\n",
       "      <td>4JK19KX9RU36</td>\n",
       "      <td>2</td>\n",
       "      <td>search for destination</td>\n",
       "      <td>Londrina, Brazil</td>\n",
       "      <td>BR</td>\n",
       "      <td>Londrina, Brazil</td>\n",
       "      <td>desktop</td>\n",
       "      <td>NaN</td>\n",
       "      <td>NaN</td>\n",
       "      <td>NaN</td>\n",
       "    </tr>\n",
       "    <tr>\n",
       "      <th>2</th>\n",
       "      <td>2</td>\n",
       "      <td>5b578bc20be9f</td>\n",
       "      <td>1541030412</td>\n",
       "      <td>KQ7YR1O2APO1</td>\n",
       "      <td>1</td>\n",
       "      <td>search for destination</td>\n",
       "      <td>Vienna, Austria</td>\n",
       "      <td>RO</td>\n",
       "      <td>Vienna, Austria</td>\n",
       "      <td>mobile</td>\n",
       "      <td>NaN</td>\n",
       "      <td>NaN</td>\n",
       "      <td>NaN</td>\n",
       "    </tr>\n",
       "  </tbody>\n",
       "</table>\n",
       "</div>"
      ],
      "text/plain": [
       "   index     session_id   timestamp       user_id  step  \\\n",
       "0      0  b6b4a3c02db0c  1541030408  4JK19KX9RU36     1   \n",
       "1      1  b6b4a3c02db0c  1541030410  4JK19KX9RU36     2   \n",
       "2      2  5b578bc20be9f  1541030412  KQ7YR1O2APO1     1   \n",
       "\n",
       "              action_type         reference platform              city  \\\n",
       "0  search for destination  Londrina, Brazil       BR  Londrina, Brazil   \n",
       "1  search for destination  Londrina, Brazil       BR  Londrina, Brazil   \n",
       "2  search for destination   Vienna, Austria       RO   Vienna, Austria   \n",
       "\n",
       "    device current_filters impressions prices  \n",
       "0  desktop             NaN         NaN    NaN  \n",
       "1  desktop             NaN         NaN    NaN  \n",
       "2   mobile             NaN         NaN    NaN  "
      ]
     },
     "execution_count": 3,
     "metadata": {},
     "output_type": "execute_result"
    }
   ],
   "source": [
    "train = pd.read_csv(\"D:\\\\Dokumenty\\\\Systemy_rekomendacyjne\\\\additional_resources\\\\2019-master\\\\data\\\\copy\\\\train.csv\",\n",
    "                   sep=',')\n",
    "print(train.shape)\n",
    "train[:3]"
   ]
  },
  {
   "cell_type": "code",
   "execution_count": 5,
   "metadata": {},
   "outputs": [
    {
     "data": {
      "text/html": [
       "<div>\n",
       "<style scoped>\n",
       "    .dataframe tbody tr th:only-of-type {\n",
       "        vertical-align: middle;\n",
       "    }\n",
       "\n",
       "    .dataframe tbody tr th {\n",
       "        vertical-align: top;\n",
       "    }\n",
       "\n",
       "    .dataframe thead th {\n",
       "        text-align: right;\n",
       "    }\n",
       "</style>\n",
       "<table border=\"1\" class=\"dataframe\">\n",
       "  <thead>\n",
       "    <tr style=\"text-align: right;\">\n",
       "      <th></th>\n",
       "      <th>index</th>\n",
       "      <th>session_id</th>\n",
       "      <th>timestamp</th>\n",
       "      <th>user_id</th>\n",
       "      <th>step</th>\n",
       "      <th>action_type</th>\n",
       "      <th>reference</th>\n",
       "      <th>platform</th>\n",
       "      <th>city</th>\n",
       "      <th>device</th>\n",
       "      <th>current_filters</th>\n",
       "      <th>impressions</th>\n",
       "      <th>prices</th>\n",
       "      <th>month</th>\n",
       "      <th>day</th>\n",
       "      <th>hour</th>\n",
       "    </tr>\n",
       "  </thead>\n",
       "  <tbody>\n",
       "    <tr>\n",
       "      <th>0</th>\n",
       "      <td>0</td>\n",
       "      <td>b6b4a3c02db0c</td>\n",
       "      <td>1541030408</td>\n",
       "      <td>4JK19KX9RU36</td>\n",
       "      <td>1</td>\n",
       "      <td>search for destination</td>\n",
       "      <td>Londrina, Brazil</td>\n",
       "      <td>BR</td>\n",
       "      <td>Londrina, Brazil</td>\n",
       "      <td>desktop</td>\n",
       "      <td>NaN</td>\n",
       "      <td>NaN</td>\n",
       "      <td>NaN</td>\n",
       "      <td>11</td>\n",
       "      <td>1</td>\n",
       "      <td>0</td>\n",
       "    </tr>\n",
       "    <tr>\n",
       "      <th>1</th>\n",
       "      <td>1</td>\n",
       "      <td>b6b4a3c02db0c</td>\n",
       "      <td>1541030410</td>\n",
       "      <td>4JK19KX9RU36</td>\n",
       "      <td>2</td>\n",
       "      <td>search for destination</td>\n",
       "      <td>Londrina, Brazil</td>\n",
       "      <td>BR</td>\n",
       "      <td>Londrina, Brazil</td>\n",
       "      <td>desktop</td>\n",
       "      <td>NaN</td>\n",
       "      <td>NaN</td>\n",
       "      <td>NaN</td>\n",
       "      <td>11</td>\n",
       "      <td>1</td>\n",
       "      <td>0</td>\n",
       "    </tr>\n",
       "    <tr>\n",
       "      <th>2</th>\n",
       "      <td>2</td>\n",
       "      <td>5b578bc20be9f</td>\n",
       "      <td>1541030412</td>\n",
       "      <td>KQ7YR1O2APO1</td>\n",
       "      <td>1</td>\n",
       "      <td>search for destination</td>\n",
       "      <td>Vienna, Austria</td>\n",
       "      <td>RO</td>\n",
       "      <td>Vienna, Austria</td>\n",
       "      <td>mobile</td>\n",
       "      <td>NaN</td>\n",
       "      <td>NaN</td>\n",
       "      <td>NaN</td>\n",
       "      <td>11</td>\n",
       "      <td>1</td>\n",
       "      <td>0</td>\n",
       "    </tr>\n",
       "  </tbody>\n",
       "</table>\n",
       "</div>"
      ],
      "text/plain": [
       "   index     session_id   timestamp       user_id  step  \\\n",
       "0      0  b6b4a3c02db0c  1541030408  4JK19KX9RU36     1   \n",
       "1      1  b6b4a3c02db0c  1541030410  4JK19KX9RU36     2   \n",
       "2      2  5b578bc20be9f  1541030412  KQ7YR1O2APO1     1   \n",
       "\n",
       "              action_type         reference platform              city  \\\n",
       "0  search for destination  Londrina, Brazil       BR  Londrina, Brazil   \n",
       "1  search for destination  Londrina, Brazil       BR  Londrina, Brazil   \n",
       "2  search for destination   Vienna, Austria       RO   Vienna, Austria   \n",
       "\n",
       "    device current_filters impressions prices  month  day  hour  \n",
       "0  desktop             NaN         NaN    NaN     11    1     0  \n",
       "1  desktop             NaN         NaN    NaN     11    1     0  \n",
       "2   mobile             NaN         NaN    NaN     11    1     0  "
      ]
     },
     "execution_count": 5,
     "metadata": {},
     "output_type": "execute_result"
    }
   ],
   "source": [
    "from datetime import datetime\n",
    "train['month'] = train.apply(lambda df: datetime.utcfromtimestamp(df['timestamp']).month, axis=1)\n",
    "train['day'] = train.apply(lambda df: datetime.utcfromtimestamp(df['timestamp']).day, axis=1)\n",
    "train['hour'] = train.apply(lambda df: datetime.utcfromtimestamp(df['timestamp']).hour, axis=1)\n",
    "train[:3]"
   ]
  },
  {
   "cell_type": "code",
   "execution_count": 65,
   "metadata": {},
   "outputs": [
    {
     "name": "stdout",
     "output_type": "stream",
     "text": [
      "2018-11-01 00:00:08\n",
      "2018-11-06 22:53:19\n"
     ]
    }
   ],
   "source": [
    "print(datetime.utcfromtimestamp(train['timestamp'].min())) # czwartek\n",
    "print(datetime.utcfromtimestamp(train['timestamp'].max())) # wtorek"
   ]
  },
  {
   "cell_type": "code",
   "execution_count": 30,
   "metadata": {},
   "outputs": [
    {
     "data": {
      "text/plain": [
       "day\n",
       "1    149749\n",
       "2    145449\n",
       "3    137721\n",
       "4    154554\n",
       "5    145067\n",
       "6         9\n",
       "Name: session_id, dtype: int64"
      ]
     },
     "execution_count": 30,
     "metadata": {},
     "output_type": "execute_result"
    }
   ],
   "source": [
    "# liczba sesji każdego dnia\n",
    "train[['session_id','day']].groupby(['day'])['session_id'].nunique()"
   ]
  },
  {
   "cell_type": "code",
   "execution_count": 24,
   "metadata": {},
   "outputs": [
    {
     "data": {
      "text/plain": [
       "732501"
      ]
     },
     "execution_count": 24,
     "metadata": {},
     "output_type": "execute_result"
    }
   ],
   "source": [
    "len(train['session_id'].value_counts().values)"
   ]
  },
  {
   "cell_type": "code",
   "execution_count": 59,
   "metadata": {},
   "outputs": [
    {
     "data": {
      "text/plain": [
       "43"
      ]
     },
     "execution_count": 59,
     "metadata": {},
     "output_type": "execute_result"
    }
   ],
   "source": [
    "# ostatnia doba zbioru treningowego to tylko 43 sesje, gdzie w przypadku reszty dni jest to około 150k\n",
    "min_time = (train['timestamp'].max() - 24*60*60*1)  # godziny*minuty*sekundy*dni\n",
    "mask = train['timestamp'] > min_time\n",
    "train[mask]['session_id'].nunique()"
   ]
  },
  {
   "cell_type": "code",
   "execution_count": 54,
   "metadata": {},
   "outputs": [
    {
     "data": {
      "text/plain": [
       "152069"
      ]
     },
     "execution_count": 54,
     "metadata": {},
     "output_type": "execute_result"
    }
   ],
   "source": [
    "# ostatnie 2 dni\n",
    "min_time = (train['timestamp'].max() - 24*60*60*2)  # godziny*minuty*sekundy*dni\n",
    "mask = train['timestamp'] > min_time\n",
    "train[mask]['session_id'].nunique()"
   ]
  },
  {
   "cell_type": "code",
   "execution_count": 47,
   "metadata": {},
   "outputs": [
    {
     "data": {
      "text/plain": [
       "datetime.datetime(2018, 11, 6, 22, 53, 19)"
      ]
     },
     "execution_count": 47,
     "metadata": {},
     "output_type": "execute_result"
    }
   ],
   "source": [
    "# maksymalny czas\n",
    "datetime.utcfromtimestamp(train['timestamp'].max())"
   ]
  },
  {
   "cell_type": "code",
   "execution_count": 48,
   "metadata": {},
   "outputs": [
    {
     "data": {
      "text/plain": [
       "datetime.datetime(2018, 11, 5, 22, 53, 19)"
      ]
     },
     "execution_count": 48,
     "metadata": {},
     "output_type": "execute_result"
    }
   ],
   "source": [
    "# 1 dzień przed\n",
    "datetime.utcfromtimestamp(train['timestamp'].max() - 24*60*60*1)"
   ]
  },
  {
   "cell_type": "code",
   "execution_count": 49,
   "metadata": {},
   "outputs": [
    {
     "data": {
      "text/plain": [
       "datetime.datetime(2018, 11, 4, 22, 53, 19)"
      ]
     },
     "execution_count": 49,
     "metadata": {},
     "output_type": "execute_result"
    }
   ],
   "source": [
    "# 2 dni przed\n",
    "datetime.utcfromtimestamp(train['timestamp'].max() - 24*60*60*2)"
   ]
  },
  {
   "cell_type": "code",
   "execution_count": null,
   "metadata": {},
   "outputs": [],
   "source": []
  },
  {
   "cell_type": "markdown",
   "metadata": {},
   "source": [
    "## Zbiór testowy"
   ]
  },
  {
   "cell_type": "code",
   "execution_count": 60,
   "metadata": {},
   "outputs": [
    {
     "name": "stdout",
     "output_type": "stream",
     "text": [
      "(3148653, 12)\n"
     ]
    },
    {
     "data": {
      "text/html": [
       "<div>\n",
       "<style scoped>\n",
       "    .dataframe tbody tr th:only-of-type {\n",
       "        vertical-align: middle;\n",
       "    }\n",
       "\n",
       "    .dataframe tbody tr th {\n",
       "        vertical-align: top;\n",
       "    }\n",
       "\n",
       "    .dataframe thead th {\n",
       "        text-align: right;\n",
       "    }\n",
       "</style>\n",
       "<table border=\"1\" class=\"dataframe\">\n",
       "  <thead>\n",
       "    <tr style=\"text-align: right;\">\n",
       "      <th></th>\n",
       "      <th>user_id</th>\n",
       "      <th>timestamp</th>\n",
       "      <th>session_id</th>\n",
       "      <th>step</th>\n",
       "      <th>action_type</th>\n",
       "      <th>reference</th>\n",
       "      <th>platform</th>\n",
       "      <th>city</th>\n",
       "      <th>device</th>\n",
       "      <th>current_filters</th>\n",
       "      <th>impressions</th>\n",
       "      <th>prices</th>\n",
       "    </tr>\n",
       "  </thead>\n",
       "  <tbody>\n",
       "    <tr>\n",
       "      <th>0</th>\n",
       "      <td>MUOOQC23R8N9</td>\n",
       "      <td>1541453208</td>\n",
       "      <td>9c57f365a02a7</td>\n",
       "      <td>1</td>\n",
       "      <td>change of sort order</td>\n",
       "      <td>interaction sort button</td>\n",
       "      <td>ES</td>\n",
       "      <td>Lisbon, Portugal</td>\n",
       "      <td>desktop</td>\n",
       "      <td>NaN</td>\n",
       "      <td>NaN</td>\n",
       "      <td>NaN</td>\n",
       "    </tr>\n",
       "    <tr>\n",
       "      <th>1</th>\n",
       "      <td>L1IOIJ47C0S6</td>\n",
       "      <td>1541453208</td>\n",
       "      <td>ee9489aaeca70</td>\n",
       "      <td>1</td>\n",
       "      <td>interaction item image</td>\n",
       "      <td>2757973</td>\n",
       "      <td>BR</td>\n",
       "      <td>Penha, Brazil</td>\n",
       "      <td>desktop</td>\n",
       "      <td>NaN</td>\n",
       "      <td>NaN</td>\n",
       "      <td>NaN</td>\n",
       "    </tr>\n",
       "    <tr>\n",
       "      <th>2</th>\n",
       "      <td>L1IOIJ47C0S6</td>\n",
       "      <td>1541453208</td>\n",
       "      <td>ee9489aaeca70</td>\n",
       "      <td>2</td>\n",
       "      <td>interaction item image</td>\n",
       "      <td>2757973</td>\n",
       "      <td>BR</td>\n",
       "      <td>Penha, Brazil</td>\n",
       "      <td>desktop</td>\n",
       "      <td>NaN</td>\n",
       "      <td>NaN</td>\n",
       "      <td>NaN</td>\n",
       "    </tr>\n",
       "  </tbody>\n",
       "</table>\n",
       "</div>"
      ],
      "text/plain": [
       "        user_id   timestamp     session_id  step             action_type  \\\n",
       "0  MUOOQC23R8N9  1541453208  9c57f365a02a7     1    change of sort order   \n",
       "1  L1IOIJ47C0S6  1541453208  ee9489aaeca70     1  interaction item image   \n",
       "2  L1IOIJ47C0S6  1541453208  ee9489aaeca70     2  interaction item image   \n",
       "\n",
       "                 reference platform              city   device  \\\n",
       "0  interaction sort button       ES  Lisbon, Portugal  desktop   \n",
       "1                  2757973       BR     Penha, Brazil  desktop   \n",
       "2                  2757973       BR     Penha, Brazil  desktop   \n",
       "\n",
       "  current_filters impressions prices  \n",
       "0             NaN         NaN    NaN  \n",
       "1             NaN         NaN    NaN  \n",
       "2             NaN         NaN    NaN  "
      ]
     },
     "execution_count": 60,
     "metadata": {},
     "output_type": "execute_result"
    }
   ],
   "source": [
    "test = pd.read_csv(\"D:\\\\Dokumenty\\\\Systemy_rekomendacyjne\\\\additional_resources\\\\2019-master\\\\data\\\\copy\\\\test.csv\",\n",
    "                   sep=',')\n",
    "print(test.shape)\n",
    "test[:3]"
   ]
  },
  {
   "cell_type": "code",
   "execution_count": 61,
   "metadata": {},
   "outputs": [
    {
     "data": {
      "text/html": [
       "<div>\n",
       "<style scoped>\n",
       "    .dataframe tbody tr th:only-of-type {\n",
       "        vertical-align: middle;\n",
       "    }\n",
       "\n",
       "    .dataframe tbody tr th {\n",
       "        vertical-align: top;\n",
       "    }\n",
       "\n",
       "    .dataframe thead th {\n",
       "        text-align: right;\n",
       "    }\n",
       "</style>\n",
       "<table border=\"1\" class=\"dataframe\">\n",
       "  <thead>\n",
       "    <tr style=\"text-align: right;\">\n",
       "      <th></th>\n",
       "      <th>user_id</th>\n",
       "      <th>timestamp</th>\n",
       "      <th>session_id</th>\n",
       "      <th>step</th>\n",
       "      <th>action_type</th>\n",
       "      <th>reference</th>\n",
       "      <th>platform</th>\n",
       "      <th>city</th>\n",
       "      <th>device</th>\n",
       "      <th>current_filters</th>\n",
       "      <th>impressions</th>\n",
       "      <th>prices</th>\n",
       "      <th>month</th>\n",
       "      <th>day</th>\n",
       "      <th>hour</th>\n",
       "    </tr>\n",
       "  </thead>\n",
       "  <tbody>\n",
       "    <tr>\n",
       "      <th>0</th>\n",
       "      <td>MUOOQC23R8N9</td>\n",
       "      <td>1541453208</td>\n",
       "      <td>9c57f365a02a7</td>\n",
       "      <td>1</td>\n",
       "      <td>change of sort order</td>\n",
       "      <td>interaction sort button</td>\n",
       "      <td>ES</td>\n",
       "      <td>Lisbon, Portugal</td>\n",
       "      <td>desktop</td>\n",
       "      <td>NaN</td>\n",
       "      <td>NaN</td>\n",
       "      <td>NaN</td>\n",
       "      <td>11</td>\n",
       "      <td>5</td>\n",
       "      <td>21</td>\n",
       "    </tr>\n",
       "    <tr>\n",
       "      <th>1</th>\n",
       "      <td>L1IOIJ47C0S6</td>\n",
       "      <td>1541453208</td>\n",
       "      <td>ee9489aaeca70</td>\n",
       "      <td>1</td>\n",
       "      <td>interaction item image</td>\n",
       "      <td>2757973</td>\n",
       "      <td>BR</td>\n",
       "      <td>Penha, Brazil</td>\n",
       "      <td>desktop</td>\n",
       "      <td>NaN</td>\n",
       "      <td>NaN</td>\n",
       "      <td>NaN</td>\n",
       "      <td>11</td>\n",
       "      <td>5</td>\n",
       "      <td>21</td>\n",
       "    </tr>\n",
       "    <tr>\n",
       "      <th>2</th>\n",
       "      <td>L1IOIJ47C0S6</td>\n",
       "      <td>1541453208</td>\n",
       "      <td>ee9489aaeca70</td>\n",
       "      <td>2</td>\n",
       "      <td>interaction item image</td>\n",
       "      <td>2757973</td>\n",
       "      <td>BR</td>\n",
       "      <td>Penha, Brazil</td>\n",
       "      <td>desktop</td>\n",
       "      <td>NaN</td>\n",
       "      <td>NaN</td>\n",
       "      <td>NaN</td>\n",
       "      <td>11</td>\n",
       "      <td>5</td>\n",
       "      <td>21</td>\n",
       "    </tr>\n",
       "  </tbody>\n",
       "</table>\n",
       "</div>"
      ],
      "text/plain": [
       "        user_id   timestamp     session_id  step             action_type  \\\n",
       "0  MUOOQC23R8N9  1541453208  9c57f365a02a7     1    change of sort order   \n",
       "1  L1IOIJ47C0S6  1541453208  ee9489aaeca70     1  interaction item image   \n",
       "2  L1IOIJ47C0S6  1541453208  ee9489aaeca70     2  interaction item image   \n",
       "\n",
       "                 reference platform              city   device  \\\n",
       "0  interaction sort button       ES  Lisbon, Portugal  desktop   \n",
       "1                  2757973       BR     Penha, Brazil  desktop   \n",
       "2                  2757973       BR     Penha, Brazil  desktop   \n",
       "\n",
       "  current_filters impressions prices  month  day  hour  \n",
       "0             NaN         NaN    NaN     11    5    21  \n",
       "1             NaN         NaN    NaN     11    5    21  \n",
       "2             NaN         NaN    NaN     11    5    21  "
      ]
     },
     "execution_count": 61,
     "metadata": {},
     "output_type": "execute_result"
    }
   ],
   "source": [
    "from datetime import datetime\n",
    "test['month'] = test.apply(lambda df: datetime.utcfromtimestamp(df['timestamp']).month, axis=1)\n",
    "test['day'] = test.apply(lambda df: datetime.utcfromtimestamp(df['timestamp']).day, axis=1)\n",
    "test['hour'] = test.apply(lambda df: datetime.utcfromtimestamp(df['timestamp']).hour, axis=1)\n",
    "test[:3]"
   ]
  },
  {
   "cell_type": "code",
   "execution_count": 63,
   "metadata": {},
   "outputs": [
    {
     "data": {
      "text/plain": [
       "day\n",
       "5     17289\n",
       "6    160894\n",
       "Name: session_id, dtype: int64"
      ]
     },
     "execution_count": 63,
     "metadata": {},
     "output_type": "execute_result"
    }
   ],
   "source": [
    "# liczba sesji każdego dnia\n",
    "test[['session_id','day']].groupby(['day'])['session_id'].nunique()"
   ]
  },
  {
   "cell_type": "code",
   "execution_count": null,
   "metadata": {},
   "outputs": [],
   "source": []
  }
 ],
 "metadata": {
  "kernelspec": {
   "display_name": "Python 3",
   "language": "python",
   "name": "python3"
  },
  "language_info": {
   "codemirror_mode": {
    "name": "ipython",
    "version": 3
   },
   "file_extension": ".py",
   "mimetype": "text/x-python",
   "name": "python",
   "nbconvert_exporter": "python",
   "pygments_lexer": "ipython3",
   "version": "3.7.3"
  }
 },
 "nbformat": 4,
 "nbformat_minor": 2
}
