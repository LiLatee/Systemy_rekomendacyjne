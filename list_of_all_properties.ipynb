{
 "cells": [
  {
   "cell_type": "code",
   "execution_count": 1,
   "metadata": {},
   "outputs": [],
   "source": [
    "import json\n",
    "import pandas as pd\n",
    "import numpy as np"
   ]
  },
  {
   "cell_type": "code",
   "execution_count": null,
   "metadata": {},
   "outputs": [],
   "source": [
    "item_metadata_org = pd.read_csv('D:\\\\Dokumenty\\\\Systemy_rekomendacyjne\\\\data\\\\trivagoRecSysChallengeData2019_v2\\\\item_metadata.csv',\n",
    "                       sep=',',\n",
    "                      nrows=1000)\n",
    "item_metadata_org[:5]"
   ]
  },
  {
   "cell_type": "code",
   "execution_count": null,
   "metadata": {},
   "outputs": [],
   "source": [
    "data_as_dict = item_metadata_org.to_json(orient='records')\n",
    "data_as_list_of_dicts = json.loads(data_as_dict)"
   ]
  },
  {
   "cell_type": "code",
   "execution_count": null,
   "metadata": {},
   "outputs": [],
   "source": [
    "set_of_properties = set()\n",
    "for row in data_as_list_of_dicts:\n",
    "    list_of_properties = row['properties'].split('|')\n",
    "    for property in list_of_properties:\n",
    "        set_of_properties.add(property)\n",
    "\n",
    "len(set_of_properties)"
   ]
  },
  {
   "cell_type": "code",
   "execution_count": null,
   "metadata": {},
   "outputs": [],
   "source": [
    "file_set_of_properties = open('D:\\\\Dokumenty\\\\Systemy_rekomendacyjne\\\\data\\\\list_of_properties.txt', 'w+')\n",
    "file_set_of_properties.write(json.dumps(list(set_of_properties)))"
   ]
  },
  {
   "cell_type": "code",
   "execution_count": null,
   "metadata": {},
   "outputs": [],
   "source": []
  }
 ],
 "metadata": {
  "kernelspec": {
   "display_name": "Python 3",
   "language": "python",
   "name": "python3"
  },
  "language_info": {
   "codemirror_mode": {
    "name": "ipython",
    "version": 3
   },
   "file_extension": ".py",
   "mimetype": "text/x-python",
   "name": "python",
   "nbconvert_exporter": "python",
   "pygments_lexer": "ipython3",
   "version": "3.7.3"
  }
 },
 "nbformat": 4,
 "nbformat_minor": 2
}
